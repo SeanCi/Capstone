{
 "cells": [
  {
   "cell_type": "code",
   "execution_count": 15,
   "metadata": {},
   "outputs": [],
   "source": [
    "import pandas as pd\n",
    "import re\n",
    "import matplotlib.pyplot as plt\n",
    "import numpy as np\n",
    "\n",
    "%store -r"
   ]
  },
  {
   "cell_type": "code",
   "execution_count": 2,
   "metadata": {},
   "outputs": [],
   "source": [
    "df = pd.DataFrame(response.json()['Time Series (Daily)'].values())"
   ]
  },
  {
   "cell_type": "code",
   "execution_count": 3,
   "metadata": {},
   "outputs": [
    {
     "data": {
      "text/html": [
       "<div>\n",
       "<style scoped>\n",
       "    .dataframe tbody tr th:only-of-type {\n",
       "        vertical-align: middle;\n",
       "    }\n",
       "\n",
       "    .dataframe tbody tr th {\n",
       "        vertical-align: top;\n",
       "    }\n",
       "\n",
       "    .dataframe thead th {\n",
       "        text-align: right;\n",
       "    }\n",
       "</style>\n",
       "<table border=\"1\" class=\"dataframe\">\n",
       "  <thead>\n",
       "    <tr style=\"text-align: right;\">\n",
       "      <th></th>\n",
       "      <th>1. open</th>\n",
       "      <th>2. high</th>\n",
       "      <th>3. low</th>\n",
       "      <th>4. close</th>\n",
       "      <th>5. adjusted close</th>\n",
       "      <th>6. volume</th>\n",
       "      <th>7. dividend amount</th>\n",
       "      <th>8. split coefficient</th>\n",
       "    </tr>\n",
       "  </thead>\n",
       "  <tbody>\n",
       "    <tr>\n",
       "      <td>0</td>\n",
       "      <td>134.4900</td>\n",
       "      <td>134.8300</td>\n",
       "      <td>132.7500</td>\n",
       "      <td>133.3491</td>\n",
       "      <td>133.3491</td>\n",
       "      <td>3888879</td>\n",
       "      <td>0.0000</td>\n",
       "      <td>1.0000</td>\n",
       "    </tr>\n",
       "    <tr>\n",
       "      <td>1</td>\n",
       "      <td>132.6900</td>\n",
       "      <td>136.1300</td>\n",
       "      <td>132.6900</td>\n",
       "      <td>135.8900</td>\n",
       "      <td>135.8900</td>\n",
       "      <td>9032548</td>\n",
       "      <td>0.0000</td>\n",
       "      <td>1.0000</td>\n",
       "    </tr>\n",
       "    <tr>\n",
       "      <td>2</td>\n",
       "      <td>134.8100</td>\n",
       "      <td>135.5400</td>\n",
       "      <td>133.6900</td>\n",
       "      <td>134.2300</td>\n",
       "      <td>134.2300</td>\n",
       "      <td>9324279</td>\n",
       "      <td>0.0000</td>\n",
       "      <td>1.0000</td>\n",
       "    </tr>\n",
       "    <tr>\n",
       "      <td>3</td>\n",
       "      <td>132.8400</td>\n",
       "      <td>134.9700</td>\n",
       "      <td>132.4784</td>\n",
       "      <td>134.4300</td>\n",
       "      <td>134.4300</td>\n",
       "      <td>13060214</td>\n",
       "      <td>0.0000</td>\n",
       "      <td>1.0000</td>\n",
       "    </tr>\n",
       "    <tr>\n",
       "      <td>4</td>\n",
       "      <td>130.2700</td>\n",
       "      <td>132.9400</td>\n",
       "      <td>129.7100</td>\n",
       "      <td>132.0300</td>\n",
       "      <td>132.0300</td>\n",
       "      <td>12854512</td>\n",
       "      <td>0.0000</td>\n",
       "      <td>1.0000</td>\n",
       "    </tr>\n",
       "    <tr>\n",
       "      <td>...</td>\n",
       "      <td>...</td>\n",
       "      <td>...</td>\n",
       "      <td>...</td>\n",
       "      <td>...</td>\n",
       "      <td>...</td>\n",
       "      <td>...</td>\n",
       "      <td>...</td>\n",
       "      <td>...</td>\n",
       "    </tr>\n",
       "    <tr>\n",
       "      <td>5028</td>\n",
       "      <td>82.5000</td>\n",
       "      <td>83.3100</td>\n",
       "      <td>81.5600</td>\n",
       "      <td>81.7500</td>\n",
       "      <td>29.4413</td>\n",
       "      <td>3410067</td>\n",
       "      <td>0.0000</td>\n",
       "      <td>1.0000</td>\n",
       "    </tr>\n",
       "    <tr>\n",
       "      <td>5029</td>\n",
       "      <td>83.5000</td>\n",
       "      <td>84.8700</td>\n",
       "      <td>80.2500</td>\n",
       "      <td>83.1900</td>\n",
       "      <td>29.9599</td>\n",
       "      <td>6133467</td>\n",
       "      <td>0.0000</td>\n",
       "      <td>1.0000</td>\n",
       "    </tr>\n",
       "    <tr>\n",
       "      <td>5030</td>\n",
       "      <td>83.0000</td>\n",
       "      <td>84.1900</td>\n",
       "      <td>81.3800</td>\n",
       "      <td>82.3800</td>\n",
       "      <td>29.6682</td>\n",
       "      <td>4750800</td>\n",
       "      <td>0.0000</td>\n",
       "      <td>1.0000</td>\n",
       "    </tr>\n",
       "    <tr>\n",
       "      <td>5031</td>\n",
       "      <td>82.4400</td>\n",
       "      <td>84.5000</td>\n",
       "      <td>81.3100</td>\n",
       "      <td>83.7500</td>\n",
       "      <td>30.1615</td>\n",
       "      <td>6434000</td>\n",
       "      <td>0.0000</td>\n",
       "      <td>1.0000</td>\n",
       "    </tr>\n",
       "    <tr>\n",
       "      <td>5032</td>\n",
       "      <td>76.8100</td>\n",
       "      <td>81.5000</td>\n",
       "      <td>76.8100</td>\n",
       "      <td>80.6900</td>\n",
       "      <td>29.0595</td>\n",
       "      <td>4773467</td>\n",
       "      <td>0.0000</td>\n",
       "      <td>1.0000</td>\n",
       "    </tr>\n",
       "  </tbody>\n",
       "</table>\n",
       "<p>5033 rows × 8 columns</p>\n",
       "</div>"
      ],
      "text/plain": [
       "       1. open   2. high    3. low  4. close 5. adjusted close 6. volume  \\\n",
       "0     134.4900  134.8300  132.7500  133.3491          133.3491   3888879   \n",
       "1     132.6900  136.1300  132.6900  135.8900          135.8900   9032548   \n",
       "2     134.8100  135.5400  133.6900  134.2300          134.2300   9324279   \n",
       "3     132.8400  134.9700  132.4784  134.4300          134.4300  13060214   \n",
       "4     130.2700  132.9400  129.7100  132.0300          132.0300  12854512   \n",
       "...        ...       ...       ...       ...               ...       ...   \n",
       "5028   82.5000   83.3100   81.5600   81.7500           29.4413   3410067   \n",
       "5029   83.5000   84.8700   80.2500   83.1900           29.9599   6133467   \n",
       "5030   83.0000   84.1900   81.3800   82.3800           29.6682   4750800   \n",
       "5031   82.4400   84.5000   81.3100   83.7500           30.1615   6434000   \n",
       "5032   76.8100   81.5000   76.8100   80.6900           29.0595   4773467   \n",
       "\n",
       "     7. dividend amount 8. split coefficient  \n",
       "0                0.0000               1.0000  \n",
       "1                0.0000               1.0000  \n",
       "2                0.0000               1.0000  \n",
       "3                0.0000               1.0000  \n",
       "4                0.0000               1.0000  \n",
       "...                 ...                  ...  \n",
       "5028             0.0000               1.0000  \n",
       "5029             0.0000               1.0000  \n",
       "5030             0.0000               1.0000  \n",
       "5031             0.0000               1.0000  \n",
       "5032             0.0000               1.0000  \n",
       "\n",
       "[5033 rows x 8 columns]"
      ]
     },
     "execution_count": 3,
     "metadata": {},
     "output_type": "execute_result"
    }
   ],
   "source": [
    "df"
   ]
  },
  {
   "cell_type": "code",
   "execution_count": 4,
   "metadata": {},
   "outputs": [],
   "source": [
    "response_keys = list(response.json()['Time Series (Daily)'].keys())\n",
    "\n",
    "df.rename(columns = {df.columns[i]: ''.join(re.search(r'(\\d+\\.\\s)(.*)', \n",
    "    df.columns[i]).group(2)) for i in range(len(df.columns)) \n",
    "        if (re.search(r'(\\d+\\.\\s)(.*)', df.columns[i])) is not None},\n",
    "    index = {range(len(df))[i]: response_keys[i] for i in range(len(df))},\n",
    "    inplace = True)"
   ]
  },
  {
   "cell_type": "code",
   "execution_count": 5,
   "metadata": {},
   "outputs": [
    {
     "data": {
      "text/html": [
       "<div>\n",
       "<style scoped>\n",
       "    .dataframe tbody tr th:only-of-type {\n",
       "        vertical-align: middle;\n",
       "    }\n",
       "\n",
       "    .dataframe tbody tr th {\n",
       "        vertical-align: top;\n",
       "    }\n",
       "\n",
       "    .dataframe thead th {\n",
       "        text-align: right;\n",
       "    }\n",
       "</style>\n",
       "<table border=\"1\" class=\"dataframe\">\n",
       "  <thead>\n",
       "    <tr style=\"text-align: right;\">\n",
       "      <th></th>\n",
       "      <th>open</th>\n",
       "      <th>high</th>\n",
       "      <th>low</th>\n",
       "      <th>close</th>\n",
       "      <th>adjusted close</th>\n",
       "      <th>volume</th>\n",
       "      <th>dividend amount</th>\n",
       "      <th>split coefficient</th>\n",
       "    </tr>\n",
       "  </thead>\n",
       "  <tbody>\n",
       "    <tr>\n",
       "      <td>2020-01-31</td>\n",
       "      <td>134.4900</td>\n",
       "      <td>134.8300</td>\n",
       "      <td>132.7500</td>\n",
       "      <td>133.3491</td>\n",
       "      <td>133.3491</td>\n",
       "      <td>3888879</td>\n",
       "      <td>0.0000</td>\n",
       "      <td>1.0000</td>\n",
       "    </tr>\n",
       "    <tr>\n",
       "      <td>2020-01-30</td>\n",
       "      <td>132.6900</td>\n",
       "      <td>136.1300</td>\n",
       "      <td>132.6900</td>\n",
       "      <td>135.8900</td>\n",
       "      <td>135.8900</td>\n",
       "      <td>9032548</td>\n",
       "      <td>0.0000</td>\n",
       "      <td>1.0000</td>\n",
       "    </tr>\n",
       "    <tr>\n",
       "      <td>2020-01-29</td>\n",
       "      <td>134.8100</td>\n",
       "      <td>135.5400</td>\n",
       "      <td>133.6900</td>\n",
       "      <td>134.2300</td>\n",
       "      <td>134.2300</td>\n",
       "      <td>9324279</td>\n",
       "      <td>0.0000</td>\n",
       "      <td>1.0000</td>\n",
       "    </tr>\n",
       "    <tr>\n",
       "      <td>2020-01-28</td>\n",
       "      <td>132.8400</td>\n",
       "      <td>134.9700</td>\n",
       "      <td>132.4784</td>\n",
       "      <td>134.4300</td>\n",
       "      <td>134.4300</td>\n",
       "      <td>13060214</td>\n",
       "      <td>0.0000</td>\n",
       "      <td>1.0000</td>\n",
       "    </tr>\n",
       "    <tr>\n",
       "      <td>2020-01-27</td>\n",
       "      <td>130.2700</td>\n",
       "      <td>132.9400</td>\n",
       "      <td>129.7100</td>\n",
       "      <td>132.0300</td>\n",
       "      <td>132.0300</td>\n",
       "      <td>12854512</td>\n",
       "      <td>0.0000</td>\n",
       "      <td>1.0000</td>\n",
       "    </tr>\n",
       "    <tr>\n",
       "      <td>...</td>\n",
       "      <td>...</td>\n",
       "      <td>...</td>\n",
       "      <td>...</td>\n",
       "      <td>...</td>\n",
       "      <td>...</td>\n",
       "      <td>...</td>\n",
       "      <td>...</td>\n",
       "      <td>...</td>\n",
       "    </tr>\n",
       "    <tr>\n",
       "      <td>2000-02-04</td>\n",
       "      <td>82.5000</td>\n",
       "      <td>83.3100</td>\n",
       "      <td>81.5600</td>\n",
       "      <td>81.7500</td>\n",
       "      <td>29.4413</td>\n",
       "      <td>3410067</td>\n",
       "      <td>0.0000</td>\n",
       "      <td>1.0000</td>\n",
       "    </tr>\n",
       "    <tr>\n",
       "      <td>2000-02-03</td>\n",
       "      <td>83.5000</td>\n",
       "      <td>84.8700</td>\n",
       "      <td>80.2500</td>\n",
       "      <td>83.1900</td>\n",
       "      <td>29.9599</td>\n",
       "      <td>6133467</td>\n",
       "      <td>0.0000</td>\n",
       "      <td>1.0000</td>\n",
       "    </tr>\n",
       "    <tr>\n",
       "      <td>2000-02-02</td>\n",
       "      <td>83.0000</td>\n",
       "      <td>84.1900</td>\n",
       "      <td>81.3800</td>\n",
       "      <td>82.3800</td>\n",
       "      <td>29.6682</td>\n",
       "      <td>4750800</td>\n",
       "      <td>0.0000</td>\n",
       "      <td>1.0000</td>\n",
       "    </tr>\n",
       "    <tr>\n",
       "      <td>2000-02-01</td>\n",
       "      <td>82.4400</td>\n",
       "      <td>84.5000</td>\n",
       "      <td>81.3100</td>\n",
       "      <td>83.7500</td>\n",
       "      <td>30.1615</td>\n",
       "      <td>6434000</td>\n",
       "      <td>0.0000</td>\n",
       "      <td>1.0000</td>\n",
       "    </tr>\n",
       "    <tr>\n",
       "      <td>2000-01-31</td>\n",
       "      <td>76.8100</td>\n",
       "      <td>81.5000</td>\n",
       "      <td>76.8100</td>\n",
       "      <td>80.6900</td>\n",
       "      <td>29.0595</td>\n",
       "      <td>4773467</td>\n",
       "      <td>0.0000</td>\n",
       "      <td>1.0000</td>\n",
       "    </tr>\n",
       "  </tbody>\n",
       "</table>\n",
       "<p>5033 rows × 8 columns</p>\n",
       "</div>"
      ],
      "text/plain": [
       "                open      high       low     close adjusted close    volume  \\\n",
       "2020-01-31  134.4900  134.8300  132.7500  133.3491       133.3491   3888879   \n",
       "2020-01-30  132.6900  136.1300  132.6900  135.8900       135.8900   9032548   \n",
       "2020-01-29  134.8100  135.5400  133.6900  134.2300       134.2300   9324279   \n",
       "2020-01-28  132.8400  134.9700  132.4784  134.4300       134.4300  13060214   \n",
       "2020-01-27  130.2700  132.9400  129.7100  132.0300       132.0300  12854512   \n",
       "...              ...       ...       ...       ...            ...       ...   \n",
       "2000-02-04   82.5000   83.3100   81.5600   81.7500        29.4413   3410067   \n",
       "2000-02-03   83.5000   84.8700   80.2500   83.1900        29.9599   6133467   \n",
       "2000-02-02   83.0000   84.1900   81.3800   82.3800        29.6682   4750800   \n",
       "2000-02-01   82.4400   84.5000   81.3100   83.7500        30.1615   6434000   \n",
       "2000-01-31   76.8100   81.5000   76.8100   80.6900        29.0595   4773467   \n",
       "\n",
       "           dividend amount split coefficient  \n",
       "2020-01-31          0.0000            1.0000  \n",
       "2020-01-30          0.0000            1.0000  \n",
       "2020-01-29          0.0000            1.0000  \n",
       "2020-01-28          0.0000            1.0000  \n",
       "2020-01-27          0.0000            1.0000  \n",
       "...                    ...               ...  \n",
       "2000-02-04          0.0000            1.0000  \n",
       "2000-02-03          0.0000            1.0000  \n",
       "2000-02-02          0.0000            1.0000  \n",
       "2000-02-01          0.0000            1.0000  \n",
       "2000-01-31          0.0000            1.0000  \n",
       "\n",
       "[5033 rows x 8 columns]"
      ]
     },
     "execution_count": 5,
     "metadata": {},
     "output_type": "execute_result"
    }
   ],
   "source": [
    "df"
   ]
  },
  {
   "cell_type": "code",
   "execution_count": 6,
   "metadata": {},
   "outputs": [
    {
     "name": "stdout",
     "output_type": "stream",
     "text": [
      "<class 'pandas.core.frame.DataFrame'>\n",
      "Index: 5033 entries, 2020-01-31 to 2000-01-31\n",
      "Data columns (total 8 columns):\n",
      "open                 5033 non-null object\n",
      "high                 5033 non-null object\n",
      "low                  5033 non-null object\n",
      "close                5033 non-null object\n",
      "adjusted close       5033 non-null object\n",
      "volume               5033 non-null object\n",
      "dividend amount      5033 non-null object\n",
      "split coefficient    5033 non-null object\n",
      "dtypes: object(8)\n",
      "memory usage: 353.9+ KB\n",
      "None\n"
     ]
    }
   ],
   "source": [
    "print(df.info())"
   ]
  },
  {
   "cell_type": "code",
   "execution_count": 7,
   "metadata": {},
   "outputs": [
    {
     "name": "stdout",
     "output_type": "stream",
     "text": [
      "open                 object\n",
      "high                 object\n",
      "low                  object\n",
      "close                object\n",
      "adjusted close       object\n",
      "volume               object\n",
      "dividend amount      object\n",
      "split coefficient    object\n",
      "dtype: object\n"
     ]
    }
   ],
   "source": [
    "print(df.dtypes)"
   ]
  },
  {
   "cell_type": "code",
   "execution_count": 8,
   "metadata": {},
   "outputs": [
    {
     "name": "stdout",
     "output_type": "stream",
     "text": [
      "open                 float64\n",
      "high                 float64\n",
      "low                  float64\n",
      "close                float64\n",
      "adjusted close       float64\n",
      "volume               float64\n",
      "dividend amount      float64\n",
      "split coefficient    float64\n",
      "dtype: object\n"
     ]
    }
   ],
   "source": [
    "df = df.astype('float')\n",
    "print(df.dtypes)"
   ]
  },
  {
   "cell_type": "code",
   "execution_count": 9,
   "metadata": {},
   "outputs": [
    {
     "data": {
      "text/html": [
       "<div>\n",
       "<style scoped>\n",
       "    .dataframe tbody tr th:only-of-type {\n",
       "        vertical-align: middle;\n",
       "    }\n",
       "\n",
       "    .dataframe tbody tr th {\n",
       "        vertical-align: top;\n",
       "    }\n",
       "\n",
       "    .dataframe thead th {\n",
       "        text-align: right;\n",
       "    }\n",
       "</style>\n",
       "<table border=\"1\" class=\"dataframe\">\n",
       "  <thead>\n",
       "    <tr style=\"text-align: right;\">\n",
       "      <th></th>\n",
       "      <th>open</th>\n",
       "      <th>high</th>\n",
       "      <th>low</th>\n",
       "      <th>close</th>\n",
       "      <th>adjusted close</th>\n",
       "      <th>volume</th>\n",
       "      <th>dividend amount</th>\n",
       "      <th>split coefficient</th>\n",
       "    </tr>\n",
       "  </thead>\n",
       "  <tbody>\n",
       "    <tr>\n",
       "      <td>count</td>\n",
       "      <td>5033.000000</td>\n",
       "      <td>5033.000000</td>\n",
       "      <td>5033.000000</td>\n",
       "      <td>5033.000000</td>\n",
       "      <td>5033.000000</td>\n",
       "      <td>5.033000e+03</td>\n",
       "      <td>5033.000000</td>\n",
       "      <td>5033.000000</td>\n",
       "    </tr>\n",
       "    <tr>\n",
       "      <td>mean</td>\n",
       "      <td>54.311775</td>\n",
       "      <td>54.884421</td>\n",
       "      <td>53.667471</td>\n",
       "      <td>54.283675</td>\n",
       "      <td>44.056051</td>\n",
       "      <td>2.113111e+07</td>\n",
       "      <td>0.006306</td>\n",
       "      <td>1.000099</td>\n",
       "    </tr>\n",
       "    <tr>\n",
       "      <td>std</td>\n",
       "      <td>25.496138</td>\n",
       "      <td>25.633082</td>\n",
       "      <td>25.408807</td>\n",
       "      <td>25.519420</td>\n",
       "      <td>27.851944</td>\n",
       "      <td>2.004327e+07</td>\n",
       "      <td>0.055453</td>\n",
       "      <td>0.007048</td>\n",
       "    </tr>\n",
       "    <tr>\n",
       "      <td>min</td>\n",
       "      <td>15.350000</td>\n",
       "      <td>15.450000</td>\n",
       "      <td>14.960000</td>\n",
       "      <td>15.450000</td>\n",
       "      <td>9.557000</td>\n",
       "      <td>1.347300e+06</td>\n",
       "      <td>0.000000</td>\n",
       "      <td>1.000000</td>\n",
       "    </tr>\n",
       "    <tr>\n",
       "      <td>25%</td>\n",
       "      <td>37.610000</td>\n",
       "      <td>38.030000</td>\n",
       "      <td>37.130000</td>\n",
       "      <td>37.600000</td>\n",
       "      <td>25.908500</td>\n",
       "      <td>9.644200e+06</td>\n",
       "      <td>0.000000</td>\n",
       "      <td>1.000000</td>\n",
       "    </tr>\n",
       "    <tr>\n",
       "      <td>50%</td>\n",
       "      <td>44.980000</td>\n",
       "      <td>45.480000</td>\n",
       "      <td>44.250000</td>\n",
       "      <td>44.940000</td>\n",
       "      <td>32.700300</td>\n",
       "      <td>1.403318e+07</td>\n",
       "      <td>0.000000</td>\n",
       "      <td>1.000000</td>\n",
       "    </tr>\n",
       "    <tr>\n",
       "      <td>75%</td>\n",
       "      <td>61.110000</td>\n",
       "      <td>61.630000</td>\n",
       "      <td>60.630000</td>\n",
       "      <td>61.140000</td>\n",
       "      <td>52.427800</td>\n",
       "      <td>2.536740e+07</td>\n",
       "      <td>0.000000</td>\n",
       "      <td>1.000000</td>\n",
       "    </tr>\n",
       "    <tr>\n",
       "      <td>max</td>\n",
       "      <td>139.900000</td>\n",
       "      <td>141.100000</td>\n",
       "      <td>139.265000</td>\n",
       "      <td>141.090000</td>\n",
       "      <td>140.178000</td>\n",
       "      <td>2.172942e+08</td>\n",
       "      <td>1.000000</td>\n",
       "      <td>1.500000</td>\n",
       "    </tr>\n",
       "  </tbody>\n",
       "</table>\n",
       "</div>"
      ],
      "text/plain": [
       "              open         high          low        close  adjusted close  \\\n",
       "count  5033.000000  5033.000000  5033.000000  5033.000000     5033.000000   \n",
       "mean     54.311775    54.884421    53.667471    54.283675       44.056051   \n",
       "std      25.496138    25.633082    25.408807    25.519420       27.851944   \n",
       "min      15.350000    15.450000    14.960000    15.450000        9.557000   \n",
       "25%      37.610000    38.030000    37.130000    37.600000       25.908500   \n",
       "50%      44.980000    45.480000    44.250000    44.940000       32.700300   \n",
       "75%      61.110000    61.630000    60.630000    61.140000       52.427800   \n",
       "max     139.900000   141.100000   139.265000   141.090000      140.178000   \n",
       "\n",
       "             volume  dividend amount  split coefficient  \n",
       "count  5.033000e+03      5033.000000        5033.000000  \n",
       "mean   2.113111e+07         0.006306           1.000099  \n",
       "std    2.004327e+07         0.055453           0.007048  \n",
       "min    1.347300e+06         0.000000           1.000000  \n",
       "25%    9.644200e+06         0.000000           1.000000  \n",
       "50%    1.403318e+07         0.000000           1.000000  \n",
       "75%    2.536740e+07         0.000000           1.000000  \n",
       "max    2.172942e+08         1.000000           1.500000  "
      ]
     },
     "execution_count": 9,
     "metadata": {},
     "output_type": "execute_result"
    }
   ],
   "source": [
    "df.describe()\n",
    "\n",
    "#no extreme outliers to worry about"
   ]
  },
  {
   "cell_type": "code",
   "execution_count": 40,
   "metadata": {},
   "outputs": [
    {
     "data": {
      "image/png": "[encoded data removed]",
      "text/plain": [
       "<Figure size 432x288 with 1 Axes>"
      ]
     },
     "metadata": {
      "needs_background": "light"
     },
     "output_type": "display_data"
    }
   ],
   "source": [
    "# daily opening prices \n",
    "\n",
    "fig, ax = plt.subplots()\n",
    "\n",
    "ax.scatter(pd.to_datetime(df.index).year, df.open.values)\n",
    "start, end = ax.get_xlim()\n",
    "ax.xaxis.set_ticks(np.arange(start+1, end, 5))\n",
    "plt.show()"
   ]
  },
  {
   "cell_type": "code",
   "execution_count": 41,
   "metadata": {},
   "outputs": [
    {
     "data": {
      "image/png": "[encoded data removed]",
      "text/plain": [
       "<Figure size 432x288 with 1 Axes>"
      ]
     },
     "metadata": {
      "needs_background": "light"
     },
     "output_type": "display_data"
    }
   ],
   "source": [
    "# daily high prices \n",
    "\n",
    "fig, ax = plt.subplots()\n",
    "\n",
    "ax.scatter(pd.to_datetime(df.index).year, df.high.values)\n",
    "start, end = ax.get_xlim()\n",
    "ax.xaxis.set_ticks(np.arange(start+1, end, 5))\n",
    "plt.show()"
   ]
  },
  {
   "cell_type": "code",
   "execution_count": 42,
   "metadata": {},
   "outputs": [
    {
     "data": {
      "image/png": "[encoded data removed]",
      "text/plain": [
       "<Figure size 432x288 with 1 Axes>"
      ]
     },
     "metadata": {
      "needs_background": "light"
     },
     "output_type": "display_data"
    }
   ],
   "source": [
    "# daily low prices \n",
    "\n",
    "fig, ax = plt.subplots()\n",
    "\n",
    "ax.scatter(pd.to_datetime(df.index).year, df.low.values)\n",
    "start, end = ax.get_xlim()\n",
    "ax.xaxis.set_ticks(np.arange(start+1, end, 5))\n",
    "plt.show()"
   ]
  },
  {
   "cell_type": "code",
   "execution_count": 43,
   "metadata": {},
   "outputs": [
    {
     "data": {
      "image/png": "[encoded data removed]",
      "text/plain": [
       "<Figure size 432x288 with 1 Axes>"
      ]
     },
     "metadata": {
      "needs_background": "light"
     },
     "output_type": "display_data"
    }
   ],
   "source": [
    "# daily closing prices \n",
    "\n",
    "fig, ax = plt.subplots()\n",
    "\n",
    "ax.scatter(pd.to_datetime(df.index).year, df.low.values)\n",
    "start, end = ax.get_xlim()\n",
    "ax.xaxis.set_ticks(np.arange(start+1, end, 5))\n",
    "plt.show()"
   ]
  },
  {
   "cell_type": "code",
   "execution_count": null,
   "metadata": {},
   "outputs": [],
   "source": [
    "# as we can see, all the price factors have similar shapes over time"
   ]
  },
  {
   "cell_type": "code",
   "execution_count": 45,
   "metadata": {},
   "outputs": [
    {
     "data": {
      "image/png": "[encoded data removed]",
      "text/plain": [
       "<Figure size 432x288 with 1 Axes>"
      ]
     },
     "metadata": {
      "needs_background": "light"
     },
     "output_type": "display_data"
    }
   ],
   "source": [
    "# daily volume prices \n",
    "\n",
    "fig, ax = plt.subplots()\n",
    "\n",
    "ax.scatter(pd.to_datetime(df.index).year, df.volume.values)\n",
    "start, end = ax.get_xlim()\n",
    "ax.xaxis.set_ticks(np.arange(start+1, end, 5))\n",
    "plt.show()"
   ]
  },
  {
   "cell_type": "code",
   "execution_count": null,
   "metadata": {},
   "outputs": [],
   "source": [
    "# volume has a somewhat different shape, indicating a massive amount of trades around the time\n",
    "# of the financial crisis "
   ]
  },
  {
   "cell_type": "code",
   "execution_count": 53,
   "metadata": {},
   "outputs": [
    {
     "data": {
      "text/plain": [
       "array([0.  , 0.9 , 0.8 , 0.56, 0.5 , 0.48, 0.44, 0.4 , 0.38, 0.3 , 0.25,\n",
       "       0.05, 0.34, 1.  , 0.32])"
      ]
     },
     "execution_count": 53,
     "metadata": {},
     "output_type": "execute_result"
    }
   ],
   "source": [
    "df['dividend amount'].unique()"
   ]
  },
  {
   "cell_type": "code",
   "execution_count": 52,
   "metadata": {},
   "outputs": [
    {
     "data": {
      "image/png": "[encoded data removed]",
      "text/plain": [
       "<Figure size 432x288 with 1 Axes>"
      ]
     },
     "metadata": {
      "needs_background": "light"
     },
     "output_type": "display_data"
    }
   ],
   "source": [
    "plt.hist(df['dividend amount'])\n",
    "plt.show()"
   ]
  },
  {
   "cell_type": "code",
   "execution_count": null,
   "metadata": {},
   "outputs": [],
   "source": [
    "# the vast majority of dividends pay less than 0.2, which is to be expected\n",
    "# this will not be used in the project, but it was interesting to see"
   ]
  },
  {
   "cell_type": "code",
   "execution_count": 10,
   "metadata": {},
   "outputs": [],
   "source": [
    "df.to_csv('cleaned_data.csv')"
   ]
  }
 ],
 "metadata": {
  "kernelspec": {
   "display_name": "Python 3",
   "language": "python",
   "name": "python3"
  },
  "language_info": {
   "codemirror_mode": {
    "name": "ipython",
    "version": 3
   },
   "file_extension": ".py",
   "mimetype": "text/x-python",
   "name": "python",
   "nbconvert_exporter": "python",
   "pygments_lexer": "ipython3",
   "version": "3.7.4"
  }
 },
 "nbformat": 4,
 "nbformat_minor": 2
}
