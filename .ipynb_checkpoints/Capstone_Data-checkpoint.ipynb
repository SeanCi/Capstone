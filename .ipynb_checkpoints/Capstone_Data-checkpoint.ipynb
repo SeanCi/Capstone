{
 "cells": [
  {
   "cell_type": "code",
   "execution_count": 10,
   "metadata": {},
   "outputs": [],
   "source": [
    "import pandas as pd\n",
    "import requests"
   ]
  },
  {
   "cell_type": "code",
   "execution_count": 8,
   "metadata": {},
   "outputs": [],
   "source": [
    "key = 'I2ZWBIOL69PFCZV1'"
   ]
  },
  {
   "cell_type": "code",
   "execution_count": 17,
   "metadata": {},
   "outputs": [
    {
     "name": "stdout",
     "output_type": "stream",
     "text": [
      "Stored 'response' (Response)\n"
     ]
    }
   ],
   "source": [
    "response = requests.get('https://www.alphavantage.co/query?function=TIME_SERIES_DAILY_ADJUSTED&symbol=JPM&outputsize=full&apikey=key')\n",
    "\n",
    "%store response"
   ]
  },
  {
   "cell_type": "code",
   "execution_count": 18,
   "metadata": {},
   "outputs": [],
   "source": [
    "from pandas.io.json import json_normalize\n",
    "\n",
    "daily_df = json_normalize(response.json())"
   ]
  },
  {
   "cell_type": "code",
   "execution_count": 19,
   "metadata": {},
   "outputs": [
    {
     "data": {
      "text/html": [
       "<div>\n",
       "<style scoped>\n",
       "    .dataframe tbody tr th:only-of-type {\n",
       "        vertical-align: middle;\n",
       "    }\n",
       "\n",
       "    .dataframe tbody tr th {\n",
       "        vertical-align: top;\n",
       "    }\n",
       "\n",
       "    .dataframe thead th {\n",
       "        text-align: right;\n",
       "    }\n",
       "</style>\n",
       "<table border=\"1\" class=\"dataframe\">\n",
       "  <thead>\n",
       "    <tr style=\"text-align: right;\">\n",
       "      <th></th>\n",
       "      <th>Meta Data.1. Information</th>\n",
       "      <th>Meta Data.2. Symbol</th>\n",
       "      <th>Meta Data.3. Last Refreshed</th>\n",
       "      <th>Meta Data.4. Output Size</th>\n",
       "      <th>Meta Data.5. Time Zone</th>\n",
       "      <th>Time Series (Daily).2019-11-15.1. open</th>\n",
       "      <th>Time Series (Daily).2019-11-15.2. high</th>\n",
       "      <th>Time Series (Daily).2019-11-15.3. low</th>\n",
       "      <th>Time Series (Daily).2019-11-15.4. close</th>\n",
       "      <th>Time Series (Daily).2019-11-15.5. adjusted close</th>\n",
       "      <th>...</th>\n",
       "      <th>Time Series (Daily).1999-11-16.7. dividend amount</th>\n",
       "      <th>Time Series (Daily).1999-11-16.8. split coefficient</th>\n",
       "      <th>Time Series (Daily).1999-11-15.1. open</th>\n",
       "      <th>Time Series (Daily).1999-11-15.2. high</th>\n",
       "      <th>Time Series (Daily).1999-11-15.3. low</th>\n",
       "      <th>Time Series (Daily).1999-11-15.4. close</th>\n",
       "      <th>Time Series (Daily).1999-11-15.5. adjusted close</th>\n",
       "      <th>Time Series (Daily).1999-11-15.6. volume</th>\n",
       "      <th>Time Series (Daily).1999-11-15.7. dividend amount</th>\n",
       "      <th>Time Series (Daily).1999-11-15.8. split coefficient</th>\n",
       "    </tr>\n",
       "  </thead>\n",
       "  <tbody>\n",
       "    <tr>\n",
       "      <th>0</th>\n",
       "      <td>Daily Time Series with Splits and Dividend Events</td>\n",
       "      <td>JPM</td>\n",
       "      <td>2019-11-15</td>\n",
       "      <td>Full size</td>\n",
       "      <td>US/Eastern</td>\n",
       "      <td>129.2300</td>\n",
       "      <td>129.5300</td>\n",
       "      <td>128.4000</td>\n",
       "      <td>129.5300</td>\n",
       "      <td>129.5300</td>\n",
       "      <td>...</td>\n",
       "      <td>0.0000</td>\n",
       "      <td>1.0000</td>\n",
       "      <td>84.0630</td>\n",
       "      <td>84.8130</td>\n",
       "      <td>82.5000</td>\n",
       "      <td>82.5630</td>\n",
       "      <td>30.5887</td>\n",
       "      <td>5613000</td>\n",
       "      <td>0.0000</td>\n",
       "      <td>1.0000</td>\n",
       "    </tr>\n",
       "  </tbody>\n",
       "</table>\n",
       "<p>1 rows × 40277 columns</p>\n",
       "</div>"
      ],
      "text/plain": [
       "                            Meta Data.1. Information Meta Data.2. Symbol  \\\n",
       "0  Daily Time Series with Splits and Dividend Events                 JPM   \n",
       "\n",
       "  Meta Data.3. Last Refreshed Meta Data.4. Output Size Meta Data.5. Time Zone  \\\n",
       "0                  2019-11-15                Full size             US/Eastern   \n",
       "\n",
       "  Time Series (Daily).2019-11-15.1. open  \\\n",
       "0                               129.2300   \n",
       "\n",
       "  Time Series (Daily).2019-11-15.2. high  \\\n",
       "0                               129.5300   \n",
       "\n",
       "  Time Series (Daily).2019-11-15.3. low  \\\n",
       "0                              128.4000   \n",
       "\n",
       "  Time Series (Daily).2019-11-15.4. close  \\\n",
       "0                                129.5300   \n",
       "\n",
       "  Time Series (Daily).2019-11-15.5. adjusted close  ...  \\\n",
       "0                                         129.5300  ...   \n",
       "\n",
       "  Time Series (Daily).1999-11-16.7. dividend amount  \\\n",
       "0                                            0.0000   \n",
       "\n",
       "  Time Series (Daily).1999-11-16.8. split coefficient  \\\n",
       "0                                             1.0000    \n",
       "\n",
       "  Time Series (Daily).1999-11-15.1. open  \\\n",
       "0                                84.0630   \n",
       "\n",
       "  Time Series (Daily).1999-11-15.2. high  \\\n",
       "0                                84.8130   \n",
       "\n",
       "  Time Series (Daily).1999-11-15.3. low  \\\n",
       "0                               82.5000   \n",
       "\n",
       "  Time Series (Daily).1999-11-15.4. close  \\\n",
       "0                                 82.5630   \n",
       "\n",
       "  Time Series (Daily).1999-11-15.5. adjusted close  \\\n",
       "0                                          30.5887   \n",
       "\n",
       "  Time Series (Daily).1999-11-15.6. volume  \\\n",
       "0                                  5613000   \n",
       "\n",
       "  Time Series (Daily).1999-11-15.7. dividend amount  \\\n",
       "0                                            0.0000   \n",
       "\n",
       "  Time Series (Daily).1999-11-15.8. split coefficient  \n",
       "0                                             1.0000   \n",
       "\n",
       "[1 rows x 40277 columns]"
      ]
     },
     "execution_count": 19,
     "metadata": {},
     "output_type": "execute_result"
    }
   ],
   "source": [
    "daily_df"
   ]
  },
  {
   "cell_type": "code",
   "execution_count": 20,
   "metadata": {},
   "outputs": [],
   "source": [
    "daily_df.to_csv('data.csv')"
   ]
  }
 ],
 "metadata": {
  "kernelspec": {
   "display_name": "Python 3",
   "language": "python",
   "name": "python3"
  },
  "language_info": {
   "codemirror_mode": {
    "name": "ipython",
    "version": 3
   },
   "file_extension": ".py",
   "mimetype": "text/x-python",
   "name": "python",
   "nbconvert_exporter": "python",
   "pygments_lexer": "ipython3",
   "version": "3.7.3"
  }
 },
 "nbformat": 4,
 "nbformat_minor": 2
}
