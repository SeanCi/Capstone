{
 "cells": [
  {
   "cell_type": "code",
   "execution_count": 9,
   "metadata": {},
   "outputs": [
    {
     "name": "stdout",
     "output_type": "stream",
     "text": [
      "Collecting pandas\n",
      "  Using cached https://files.pythonhosted.org/packages/16/b5/bab3477466a4d9e705d40829ac65683155e7977acbc07f05b06fabded1be/pandas-0.25.3-cp37-cp37m-macosx_10_9_x86_64.whl\n",
      "Collecting pytz>=2017.2 (from pandas)\n",
      "  Using cached https://files.pythonhosted.org/packages/e7/f9/f0b53f88060247251bf481fa6ea62cd0d25bf1b11a87888e53ce5b7c8ad2/pytz-2019.3-py2.py3-none-any.whl\n",
      "Requirement already satisfied: numpy>=1.13.3 in /usr/local/lib/python3.7/site-packages (from pandas) (1.16.4)\n",
      "Requirement already satisfied: python-dateutil>=2.6.1 in /usr/local/lib/python3.7/site-packages (from pandas) (2.8.0)\n",
      "Requirement already satisfied: six>=1.5 in /usr/local/lib/python3.7/site-packages (from python-dateutil>=2.6.1->pandas) (1.12.0)\n",
      "Installing collected packages: pytz, pandas\n",
      "Successfully installed pandas-0.25.3 pytz-2019.3\n",
      "\u001b[33mWARNING: You are using pip version 19.1.1, however version 19.3.1 is available.\n",
      "You should consider upgrading via the 'pip install --upgrade pip' command.\u001b[0m\n"
     ]
    }
   ],
   "source": [
    "!pip3 install pandas"
   ]
  },
  {
   "cell_type": "code",
   "execution_count": 1,
   "metadata": {},
   "outputs": [],
   "source": [
    "import pandas as pd"
   ]
  },
  {
   "cell_type": "code",
   "execution_count": null,
   "metadata": {},
   "outputs": [],
   "source": [
    "key = 'I2ZWBIOL69PFCZV1'"
   ]
  },
  {
   "cell_type": "code",
   "execution_count": 3,
   "metadata": {},
   "outputs": [],
   "source": [
    "import requests"
   ]
  },
  {
   "cell_type": "code",
   "execution_count": 4,
   "metadata": {},
   "outputs": [],
   "source": [
    "response = requests.get('https://www.alphavantage.co/query?function=TIME_SERIES_DAILY&symbol=JPM&outputsize=full&apikey=key')\n"
   ]
  },
  {
   "cell_type": "code",
   "execution_count": 5,
   "metadata": {},
   "outputs": [],
   "source": [
    "from pandas.io.json import json_normalize\n",
    "\n",
    "daily_df = json_normalize(response.json())"
   ]
  },
  {
   "cell_type": "code",
   "execution_count": 9,
   "metadata": {},
   "outputs": [
    {
     "data": {
      "text/html": [
       "<div>\n",
       "<style scoped>\n",
       "    .dataframe tbody tr th:only-of-type {\n",
       "        vertical-align: middle;\n",
       "    }\n",
       "\n",
       "    .dataframe tbody tr th {\n",
       "        vertical-align: top;\n",
       "    }\n",
       "\n",
       "    .dataframe thead th {\n",
       "        text-align: right;\n",
       "    }\n",
       "</style>\n",
       "<table border=\"1\" class=\"dataframe\">\n",
       "  <thead>\n",
       "    <tr style=\"text-align: right;\">\n",
       "      <th></th>\n",
       "      <th>Meta Data.1. Information</th>\n",
       "      <th>Meta Data.2. Symbol</th>\n",
       "      <th>Meta Data.3. Last Refreshed</th>\n",
       "      <th>Meta Data.4. Output Size</th>\n",
       "      <th>Meta Data.5. Time Zone</th>\n",
       "      <th>Time Series (Daily).2019-11-13.1. open</th>\n",
       "      <th>Time Series (Daily).2019-11-13.2. high</th>\n",
       "      <th>Time Series (Daily).2019-11-13.3. low</th>\n",
       "      <th>Time Series (Daily).2019-11-13.4. close</th>\n",
       "      <th>Time Series (Daily).2019-11-13.5. volume</th>\n",
       "      <th>...</th>\n",
       "      <th>Time Series (Daily).1999-11-16.1. open</th>\n",
       "      <th>Time Series (Daily).1999-11-16.2. high</th>\n",
       "      <th>Time Series (Daily).1999-11-16.3. low</th>\n",
       "      <th>Time Series (Daily).1999-11-16.4. close</th>\n",
       "      <th>Time Series (Daily).1999-11-16.5. volume</th>\n",
       "      <th>Time Series (Daily).1999-11-15.1. open</th>\n",
       "      <th>Time Series (Daily).1999-11-15.2. high</th>\n",
       "      <th>Time Series (Daily).1999-11-15.3. low</th>\n",
       "      <th>Time Series (Daily).1999-11-15.4. close</th>\n",
       "      <th>Time Series (Daily).1999-11-15.5. volume</th>\n",
       "    </tr>\n",
       "  </thead>\n",
       "  <tbody>\n",
       "    <tr>\n",
       "      <th>0</th>\n",
       "      <td>Daily Prices (open, high, low, close) and Volumes</td>\n",
       "      <td>JPM</td>\n",
       "      <td>2019-11-13</td>\n",
       "      <td>Full size</td>\n",
       "      <td>US/Eastern</td>\n",
       "      <td>128.1300</td>\n",
       "      <td>128.8150</td>\n",
       "      <td>127.4200</td>\n",
       "      <td>128.4800</td>\n",
       "      <td>8096654</td>\n",
       "      <td>...</td>\n",
       "      <td>83.3750</td>\n",
       "      <td>86.4380</td>\n",
       "      <td>82.8750</td>\n",
       "      <td>86.0000</td>\n",
       "      <td>6735300</td>\n",
       "      <td>84.0630</td>\n",
       "      <td>84.8130</td>\n",
       "      <td>82.5000</td>\n",
       "      <td>82.5630</td>\n",
       "      <td>5613000</td>\n",
       "    </tr>\n",
       "  </tbody>\n",
       "</table>\n",
       "<p>1 rows × 25165 columns</p>\n",
       "</div>"
      ],
      "text/plain": [
       "                            Meta Data.1. Information Meta Data.2. Symbol  \\\n",
       "0  Daily Prices (open, high, low, close) and Volumes                 JPM   \n",
       "\n",
       "  Meta Data.3. Last Refreshed Meta Data.4. Output Size Meta Data.5. Time Zone  \\\n",
       "0                  2019-11-13                Full size             US/Eastern   \n",
       "\n",
       "  Time Series (Daily).2019-11-13.1. open  \\\n",
       "0                               128.1300   \n",
       "\n",
       "  Time Series (Daily).2019-11-13.2. high  \\\n",
       "0                               128.8150   \n",
       "\n",
       "  Time Series (Daily).2019-11-13.3. low  \\\n",
       "0                              127.4200   \n",
       "\n",
       "  Time Series (Daily).2019-11-13.4. close  \\\n",
       "0                                128.4800   \n",
       "\n",
       "  Time Series (Daily).2019-11-13.5. volume  ...  \\\n",
       "0                                  8096654  ...   \n",
       "\n",
       "  Time Series (Daily).1999-11-16.1. open  \\\n",
       "0                                83.3750   \n",
       "\n",
       "  Time Series (Daily).1999-11-16.2. high  \\\n",
       "0                                86.4380   \n",
       "\n",
       "  Time Series (Daily).1999-11-16.3. low  \\\n",
       "0                               82.8750   \n",
       "\n",
       "  Time Series (Daily).1999-11-16.4. close  \\\n",
       "0                                 86.0000   \n",
       "\n",
       "  Time Series (Daily).1999-11-16.5. volume  \\\n",
       "0                                  6735300   \n",
       "\n",
       "  Time Series (Daily).1999-11-15.1. open  \\\n",
       "0                                84.0630   \n",
       "\n",
       "  Time Series (Daily).1999-11-15.2. high  \\\n",
       "0                                84.8130   \n",
       "\n",
       "  Time Series (Daily).1999-11-15.3. low  \\\n",
       "0                               82.5000   \n",
       "\n",
       "  Time Series (Daily).1999-11-15.4. close  \\\n",
       "0                                 82.5630   \n",
       "\n",
       "  Time Series (Daily).1999-11-15.5. volume  \n",
       "0                                  5613000  \n",
       "\n",
       "[1 rows x 25165 columns]"
      ]
     },
     "execution_count": 9,
     "metadata": {},
     "output_type": "execute_result"
    }
   ],
   "source": [
    "daily_df"
   ]
  }
 ],
 "metadata": {
  "kernelspec": {
   "display_name": "Python 3",
   "language": "python",
   "name": "python3"
  },
  "language_info": {
   "codemirror_mode": {
    "name": "ipython",
    "version": 3
   },
   "file_extension": ".py",
   "mimetype": "text/x-python",
   "name": "python",
   "nbconvert_exporter": "python",
   "pygments_lexer": "ipython3",
   "version": "3.7.3"
  }
 },
 "nbformat": 4,
 "nbformat_minor": 2
}
