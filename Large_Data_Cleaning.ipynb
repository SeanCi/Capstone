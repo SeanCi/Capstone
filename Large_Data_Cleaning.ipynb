{
 "cells": [
  {
   "cell_type": "markdown",
   "metadata": {},
   "source": [
    "This notebook is reserved for cleaning the stock market data from Kaggle used for training the capstone model. \n",
    "The numbers below cells denote the number of seconds of runtime. "
   ]
  },
  {
   "cell_type": "code",
   "execution_count": 1,
   "metadata": {},
   "outputs": [],
   "source": [
    "import pandas as pd\n",
    "import matplotlib.pyplot as plt\n",
    "import numpy as np"
   ]
  },
  {
   "cell_type": "markdown",
   "metadata": {},
   "source": [
    "The cell below reads-in the txt files as csv files for the stock market data found in the Stocks folder in the working directory."
   ]
  },
  {
   "cell_type": "code",
   "execution_count": 2,
   "metadata": {},
   "outputs": [
    {
     "name": "stdout",
     "output_type": "stream",
     "text": [
      "70.408705948\n"
     ]
    }
   ],
   "source": [
    "import pandas as pd\n",
    "import glob\n",
    "import os\n",
    "import timeit\n",
    "\n",
    "start = timeit.default_timer()\n",
    "\n",
    "files = glob.glob('Stocks/*.txt')\n",
    "\n",
    "temp_list = []\n",
    "empty = []\n",
    "\n",
    "for f in files:\n",
    "    if os.path.getsize(f) > 0:\n",
    "        temp_df = pd.read_csv(f, index_col=None, header=0)\n",
    "        temp_list.append(temp_df)\n",
    "    else:\n",
    "        empty.append(f)\n",
    "\n",
    "end = timeit.default_timer()\n",
    "print(end - start)"
   ]
  },
  {
   "cell_type": "markdown",
   "metadata": {},
   "source": [
    "A dataframe is created by concatenating the non-null data."
   ]
  },
  {
   "cell_type": "code",
   "execution_count": 3,
   "metadata": {},
   "outputs": [],
   "source": [
    "df = pd.concat(temp_list, axis=0, ignore_index=True)"
   ]
  },
  {
   "cell_type": "code",
   "execution_count": 4,
   "metadata": {},
   "outputs": [
    {
     "data": {
      "text/html": [
       "<div>\n",
       "<style scoped>\n",
       "    .dataframe tbody tr th:only-of-type {\n",
       "        vertical-align: middle;\n",
       "    }\n",
       "\n",
       "    .dataframe tbody tr th {\n",
       "        vertical-align: top;\n",
       "    }\n",
       "\n",
       "    .dataframe thead th {\n",
       "        text-align: right;\n",
       "    }\n",
       "</style>\n",
       "<table border=\"1\" class=\"dataframe\">\n",
       "  <thead>\n",
       "    <tr style=\"text-align: right;\">\n",
       "      <th></th>\n",
       "      <th>Open</th>\n",
       "      <th>High</th>\n",
       "      <th>Low</th>\n",
       "      <th>Close</th>\n",
       "      <th>Volume</th>\n",
       "      <th>OpenInt</th>\n",
       "    </tr>\n",
       "  </thead>\n",
       "  <tbody>\n",
       "    <tr>\n",
       "      <td>count</td>\n",
       "      <td>1.488766e+07</td>\n",
       "      <td>1.488766e+07</td>\n",
       "      <td>1.488766e+07</td>\n",
       "      <td>1.488766e+07</td>\n",
       "      <td>1.488766e+07</td>\n",
       "      <td>14887665.0</td>\n",
       "    </tr>\n",
       "    <tr>\n",
       "      <td>mean</td>\n",
       "      <td>3.038538e+04</td>\n",
       "      <td>3.121247e+04</td>\n",
       "      <td>2.936176e+04</td>\n",
       "      <td>3.024522e+04</td>\n",
       "      <td>1.585730e+06</td>\n",
       "      <td>0.0</td>\n",
       "    </tr>\n",
       "    <tr>\n",
       "      <td>std</td>\n",
       "      <td>4.202501e+06</td>\n",
       "      <td>4.323486e+06</td>\n",
       "      <td>4.046981e+06</td>\n",
       "      <td>4.180590e+06</td>\n",
       "      <td>7.635187e+06</td>\n",
       "      <td>0.0</td>\n",
       "    </tr>\n",
       "    <tr>\n",
       "      <td>min</td>\n",
       "      <td>0.000000e+00</td>\n",
       "      <td>4.000000e-03</td>\n",
       "      <td>-1.000000e+00</td>\n",
       "      <td>3.700000e-03</td>\n",
       "      <td>0.000000e+00</td>\n",
       "      <td>0.0</td>\n",
       "    </tr>\n",
       "    <tr>\n",
       "      <td>25%</td>\n",
       "      <td>7.750000e+00</td>\n",
       "      <td>7.884000e+00</td>\n",
       "      <td>7.610000e+00</td>\n",
       "      <td>7.750000e+00</td>\n",
       "      <td>3.280000e+04</td>\n",
       "      <td>0.0</td>\n",
       "    </tr>\n",
       "    <tr>\n",
       "      <td>50%</td>\n",
       "      <td>1.568000e+01</td>\n",
       "      <td>1.591900e+01</td>\n",
       "      <td>1.543100e+01</td>\n",
       "      <td>1.568000e+01</td>\n",
       "      <td>1.922660e+05</td>\n",
       "      <td>0.0</td>\n",
       "    </tr>\n",
       "    <tr>\n",
       "      <td>75%</td>\n",
       "      <td>2.890000e+01</td>\n",
       "      <td>2.927900e+01</td>\n",
       "      <td>2.850000e+01</td>\n",
       "      <td>2.889990e+01</td>\n",
       "      <td>8.917860e+05</td>\n",
       "      <td>0.0</td>\n",
       "    </tr>\n",
       "    <tr>\n",
       "      <td>max</td>\n",
       "      <td>1.423713e+09</td>\n",
       "      <td>1.442049e+09</td>\n",
       "      <td>1.362118e+09</td>\n",
       "      <td>1.437986e+09</td>\n",
       "      <td>2.423735e+09</td>\n",
       "      <td>0.0</td>\n",
       "    </tr>\n",
       "  </tbody>\n",
       "</table>\n",
       "</div>"
      ],
      "text/plain": [
       "               Open          High           Low         Close        Volume  \\\n",
       "count  1.488766e+07  1.488766e+07  1.488766e+07  1.488766e+07  1.488766e+07   \n",
       "mean   3.038538e+04  3.121247e+04  2.936176e+04  3.024522e+04  1.585730e+06   \n",
       "std    4.202501e+06  4.323486e+06  4.046981e+06  4.180590e+06  7.635187e+06   \n",
       "min    0.000000e+00  4.000000e-03 -1.000000e+00  3.700000e-03  0.000000e+00   \n",
       "25%    7.750000e+00  7.884000e+00  7.610000e+00  7.750000e+00  3.280000e+04   \n",
       "50%    1.568000e+01  1.591900e+01  1.543100e+01  1.568000e+01  1.922660e+05   \n",
       "75%    2.890000e+01  2.927900e+01  2.850000e+01  2.889990e+01  8.917860e+05   \n",
       "max    1.423713e+09  1.442049e+09  1.362118e+09  1.437986e+09  2.423735e+09   \n",
       "\n",
       "          OpenInt  \n",
       "count  14887665.0  \n",
       "mean          0.0  \n",
       "std           0.0  \n",
       "min           0.0  \n",
       "25%           0.0  \n",
       "50%           0.0  \n",
       "75%           0.0  \n",
       "max           0.0  "
      ]
     },
     "execution_count": 4,
     "metadata": {},
     "output_type": "execute_result"
    }
   ],
   "source": [
    "df.describe()"
   ]
  },
  {
   "cell_type": "code",
   "execution_count": 5,
   "metadata": {},
   "outputs": [],
   "source": [
    "df.drop('OpenInt', 1, inplace = True)"
   ]
  },
  {
   "cell_type": "code",
   "execution_count": 6,
   "metadata": {},
   "outputs": [
    {
     "data": {
      "text/html": [
       "<div>\n",
       "<style scoped>\n",
       "    .dataframe tbody tr th:only-of-type {\n",
       "        vertical-align: middle;\n",
       "    }\n",
       "\n",
       "    .dataframe tbody tr th {\n",
       "        vertical-align: top;\n",
       "    }\n",
       "\n",
       "    .dataframe thead th {\n",
       "        text-align: right;\n",
       "    }\n",
       "</style>\n",
       "<table border=\"1\" class=\"dataframe\">\n",
       "  <thead>\n",
       "    <tr style=\"text-align: right;\">\n",
       "      <th></th>\n",
       "      <th>Date</th>\n",
       "      <th>Open</th>\n",
       "      <th>High</th>\n",
       "      <th>Low</th>\n",
       "      <th>Close</th>\n",
       "      <th>Volume</th>\n",
       "    </tr>\n",
       "  </thead>\n",
       "  <tbody>\n",
       "    <tr>\n",
       "      <td>0</td>\n",
       "      <td>2005-02-25</td>\n",
       "      <td>12.868</td>\n",
       "      <td>12.982</td>\n",
       "      <td>12.8340</td>\n",
       "      <td>12.8340</td>\n",
       "      <td>15928</td>\n",
       "    </tr>\n",
       "    <tr>\n",
       "      <td>1</td>\n",
       "      <td>2005-02-28</td>\n",
       "      <td>13.536</td>\n",
       "      <td>13.536</td>\n",
       "      <td>13.2730</td>\n",
       "      <td>13.2810</td>\n",
       "      <td>16382</td>\n",
       "    </tr>\n",
       "    <tr>\n",
       "      <td>2</td>\n",
       "      <td>2005-03-01</td>\n",
       "      <td>13.185</td>\n",
       "      <td>13.299</td>\n",
       "      <td>13.1850</td>\n",
       "      <td>13.2990</td>\n",
       "      <td>1250</td>\n",
       "    </tr>\n",
       "    <tr>\n",
       "      <td>3</td>\n",
       "      <td>2005-03-02</td>\n",
       "      <td>13.361</td>\n",
       "      <td>13.395</td>\n",
       "      <td>13.2730</td>\n",
       "      <td>13.2910</td>\n",
       "      <td>8760</td>\n",
       "    </tr>\n",
       "    <tr>\n",
       "      <td>4</td>\n",
       "      <td>2005-03-03</td>\n",
       "      <td>13.361</td>\n",
       "      <td>13.404</td>\n",
       "      <td>12.9660</td>\n",
       "      <td>13.2180</td>\n",
       "      <td>9897</td>\n",
       "    </tr>\n",
       "    <tr>\n",
       "      <td>...</td>\n",
       "      <td>...</td>\n",
       "      <td>...</td>\n",
       "      <td>...</td>\n",
       "      <td>...</td>\n",
       "      <td>...</td>\n",
       "      <td>...</td>\n",
       "    </tr>\n",
       "    <tr>\n",
       "      <td>14887660</td>\n",
       "      <td>2017-11-06</td>\n",
       "      <td>18.050</td>\n",
       "      <td>18.140</td>\n",
       "      <td>17.9500</td>\n",
       "      <td>18.0300</td>\n",
       "      <td>11470</td>\n",
       "    </tr>\n",
       "    <tr>\n",
       "      <td>14887661</td>\n",
       "      <td>2017-11-07</td>\n",
       "      <td>18.030</td>\n",
       "      <td>18.330</td>\n",
       "      <td>18.0300</td>\n",
       "      <td>18.1700</td>\n",
       "      <td>15729</td>\n",
       "    </tr>\n",
       "    <tr>\n",
       "      <td>14887662</td>\n",
       "      <td>2017-11-08</td>\n",
       "      <td>18.250</td>\n",
       "      <td>18.250</td>\n",
       "      <td>18.1600</td>\n",
       "      <td>18.2461</td>\n",
       "      <td>5585</td>\n",
       "    </tr>\n",
       "    <tr>\n",
       "      <td>14887663</td>\n",
       "      <td>2017-11-09</td>\n",
       "      <td>18.100</td>\n",
       "      <td>18.100</td>\n",
       "      <td>17.8300</td>\n",
       "      <td>18.0400</td>\n",
       "      <td>10929</td>\n",
       "    </tr>\n",
       "    <tr>\n",
       "      <td>14887664</td>\n",
       "      <td>2017-11-10</td>\n",
       "      <td>18.030</td>\n",
       "      <td>18.030</td>\n",
       "      <td>17.8901</td>\n",
       "      <td>17.9600</td>\n",
       "      <td>7161</td>\n",
       "    </tr>\n",
       "  </tbody>\n",
       "</table>\n",
       "<p>14887665 rows × 6 columns</p>\n",
       "</div>"
      ],
      "text/plain": [
       "                Date    Open    High      Low    Close  Volume\n",
       "0         2005-02-25  12.868  12.982  12.8340  12.8340   15928\n",
       "1         2005-02-28  13.536  13.536  13.2730  13.2810   16382\n",
       "2         2005-03-01  13.185  13.299  13.1850  13.2990    1250\n",
       "3         2005-03-02  13.361  13.395  13.2730  13.2910    8760\n",
       "4         2005-03-03  13.361  13.404  12.9660  13.2180    9897\n",
       "...              ...     ...     ...      ...      ...     ...\n",
       "14887660  2017-11-06  18.050  18.140  17.9500  18.0300   11470\n",
       "14887661  2017-11-07  18.030  18.330  18.0300  18.1700   15729\n",
       "14887662  2017-11-08  18.250  18.250  18.1600  18.2461    5585\n",
       "14887663  2017-11-09  18.100  18.100  17.8300  18.0400   10929\n",
       "14887664  2017-11-10  18.030  18.030  17.8901  17.9600    7161\n",
       "\n",
       "[14887665 rows x 6 columns]"
      ]
     },
     "execution_count": 6,
     "metadata": {},
     "output_type": "execute_result"
    }
   ],
   "source": [
    "df"
   ]
  },
  {
   "cell_type": "code",
   "execution_count": 9,
   "metadata": {},
   "outputs": [
    {
     "data": {
      "text/plain": [
       "False"
      ]
     },
     "execution_count": 9,
     "metadata": {},
     "output_type": "execute_result"
    }
   ],
   "source": [
    "df.isna().any().any()"
   ]
  },
  {
   "cell_type": "markdown",
   "metadata": {},
   "source": [
    "A csv file containing the cleaned data is exported to the working directory."
   ]
  },
  {
   "cell_type": "code",
   "execution_count": 8,
   "metadata": {},
   "outputs": [],
   "source": [
    "df.to_csv('large_cleaned_data.csv')"
   ]
  }
 ],
 "metadata": {
  "kernelspec": {
   "display_name": "Python 3",
   "language": "python",
   "name": "python3"
  },
  "language_info": {
   "codemirror_mode": {
    "name": "ipython",
    "version": 3
   },
   "file_extension": ".py",
   "mimetype": "text/x-python",
   "name": "python",
   "nbconvert_exporter": "python",
   "pygments_lexer": "ipython3",
   "version": "3.7.4"
  }
 },
 "nbformat": 4,
 "nbformat_minor": 2
}
