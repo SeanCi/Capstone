{
 "cells": [
  {
   "cell_type": "code",
   "execution_count": 1,
   "metadata": {},
   "outputs": [],
   "source": [
    "import pandas as pd\n",
    "import numpy as np\n",
    "import dask\n",
    "from sklearn.pipeline import Pipeline\n",
    "\n",
    "\n",
    "from dask.distributed import Client, LocalCluster\n",
    "from dask_ml.model_selection import train_test_split\n",
    "\n",
    "\n",
    "import joblib\n",
    "from joblib import parallel_backend\n",
    "\n",
    "import timeit\n",
    "\n",
    "from dask_ml.model_selection import GridSearchCV\n",
    "from dask_ml.model_selection import train_test_split\n",
    "\n",
    "from sklearn.tree import DecisionTreeRegressor\n",
    "\n",
    "\n",
    "from dask_ml.wrappers import Incremental\n",
    "\n",
    "from sklearn.metrics import mean_squared_error\n",
    "\n",
    "\n",
    "from dask_ml.preprocessing import StandardScaler\n",
    "\n",
    "\n",
    "from sklearn.pipeline import make_pipeline\n",
    "\n",
    "from sklearn.linear_model import PassiveAggressiveRegressor\n",
    "\n",
    "from sklearn.metrics import explained_variance_score\n",
    "\n",
    "import dask.array as da"
   ]
  },
  {
   "cell_type": "code",
   "execution_count": 2,
   "metadata": {},
   "outputs": [],
   "source": [
    "cluster = LocalCluster(threads_per_worker = 1, n_workers = 2)\n",
    "\n",
    "client = Client(cluster)"
   ]
  },
  {
   "cell_type": "code",
   "execution_count": 3,
   "metadata": {},
   "outputs": [
    {
     "data": {
      "text/html": [
       "<table style=\"border: 2px solid white;\">\n",
       "<tr>\n",
       "<td style=\"vertical-align: top; border: 0px solid white\">\n",
       "<h3 style=\"text-align: left;\">Client</h3>\n",
       "<ul style=\"text-align: left; list-style: none; margin: 0; padding: 0;\">\n",
       "  <li><b>Scheduler: </b>tcp://127.0.0.1:49490</li>\n",
       "  <li><b>Dashboard: </b><a href='http://127.0.0.1:8787/status' target='_blank'>http://127.0.0.1:8787/status</a>\n",
       "</ul>\n",
       "</td>\n",
       "<td style=\"vertical-align: top; border: 0px solid white\">\n",
       "<h3 style=\"text-align: left;\">Cluster</h3>\n",
       "<ul style=\"text-align: left; list-style:none; margin: 0; padding: 0;\">\n",
       "  <li><b>Workers: </b>2</li>\n",
       "  <li><b>Cores: </b>2</li>\n",
       "  <li><b>Memory: </b>8.59 GB</li>\n",
       "</ul>\n",
       "</td>\n",
       "</tr>\n",
       "</table>"
      ],
      "text/plain": [
       "<Client: 'tcp://127.0.0.1:49490' processes=2 threads=2, memory=8.59 GB>"
      ]
     },
     "execution_count": 3,
     "metadata": {},
     "output_type": "execute_result"
    }
   ],
   "source": [
    "client"
   ]
  },
  {
   "cell_type": "code",
   "execution_count": 4,
   "metadata": {},
   "outputs": [],
   "source": [
    "df = pd.read_csv('large_cleaned_data.csv').drop('Unnamed: 0', 1)"
   ]
  },
  {
   "cell_type": "code",
   "execution_count": 5,
   "metadata": {},
   "outputs": [],
   "source": [
    "X, y = df.drop(['Date', 'Close'], 1), df[['Close']]"
   ]
  },
  {
   "cell_type": "code",
   "execution_count": 6,
   "metadata": {},
   "outputs": [],
   "source": [
    "X = StandardScaler().fit_transform(X)\n",
    "y = StandardScaler().fit_transform(y)"
   ]
  },
  {
   "cell_type": "code",
   "execution_count": 7,
   "metadata": {},
   "outputs": [],
   "source": [
    "X_train, X_test, y_train, y_test = train_test_split(X, y, test_size = 0.3, random_state = 0)\n"
   ]
  },
  {
   "cell_type": "code",
   "execution_count": 8,
   "metadata": {},
   "outputs": [],
   "source": [
    "X_train_da = da.from_array(X_train.values, chunks = (1000000, 4))\n",
    "y_train_da = da.from_array(y_train.values, chunks = (1000000, 1))\n",
    "\n",
    "X_test_da = da.from_array(X_test.values, chunks = (1000000, 4))\n",
    "y_test_da = da.from_array(y_test.values, chunks = (1000000, 1))"
   ]
  },
  {
   "cell_type": "code",
   "execution_count": 9,
   "metadata": {},
   "outputs": [],
   "source": [
    "X_train_da, y_train_da = dask.persist(X_train_da, y_train_da)\n",
    "X_test_da, y_test_da = dask.persist(X_test_da, y_test_da)"
   ]
  },
  {
   "cell_type": "code",
   "execution_count": 10,
   "metadata": {},
   "outputs": [
    {
     "data": {
      "text/html": [
       "<div>\n",
       "<style scoped>\n",
       "    .dataframe tbody tr th:only-of-type {\n",
       "        vertical-align: middle;\n",
       "    }\n",
       "\n",
       "    .dataframe tbody tr th {\n",
       "        vertical-align: top;\n",
       "    }\n",
       "\n",
       "    .dataframe thead th {\n",
       "        text-align: right;\n",
       "    }\n",
       "</style>\n",
       "<table border=\"1\" class=\"dataframe\">\n",
       "  <thead>\n",
       "    <tr style=\"text-align: right;\">\n",
       "      <th></th>\n",
       "      <th>Open</th>\n",
       "      <th>High</th>\n",
       "      <th>Low</th>\n",
       "      <th>Close</th>\n",
       "      <th>Volume</th>\n",
       "    </tr>\n",
       "  </thead>\n",
       "  <tbody>\n",
       "    <tr>\n",
       "      <th>Open</th>\n",
       "      <td>1.000000</td>\n",
       "      <td>0.990558</td>\n",
       "      <td>0.990149</td>\n",
       "      <td>0.987289</td>\n",
       "      <td>0.100327</td>\n",
       "    </tr>\n",
       "    <tr>\n",
       "      <th>High</th>\n",
       "      <td>0.990558</td>\n",
       "      <td>1.000000</td>\n",
       "      <td>0.985858</td>\n",
       "      <td>0.990813</td>\n",
       "      <td>0.101652</td>\n",
       "    </tr>\n",
       "    <tr>\n",
       "      <th>Low</th>\n",
       "      <td>0.990149</td>\n",
       "      <td>0.985858</td>\n",
       "      <td>1.000000</td>\n",
       "      <td>0.990635</td>\n",
       "      <td>0.098998</td>\n",
       "    </tr>\n",
       "    <tr>\n",
       "      <th>Close</th>\n",
       "      <td>0.987289</td>\n",
       "      <td>0.990813</td>\n",
       "      <td>0.990635</td>\n",
       "      <td>1.000000</td>\n",
       "      <td>0.100360</td>\n",
       "    </tr>\n",
       "    <tr>\n",
       "      <th>Volume</th>\n",
       "      <td>0.100327</td>\n",
       "      <td>0.101652</td>\n",
       "      <td>0.098998</td>\n",
       "      <td>0.100360</td>\n",
       "      <td>1.000000</td>\n",
       "    </tr>\n",
       "  </tbody>\n",
       "</table>\n",
       "</div>"
      ],
      "text/plain": [
       "            Open      High       Low     Close    Volume\n",
       "Open    1.000000  0.990558  0.990149  0.987289  0.100327\n",
       "High    0.990558  1.000000  0.985858  0.990813  0.101652\n",
       "Low     0.990149  0.985858  1.000000  0.990635  0.098998\n",
       "Close   0.987289  0.990813  0.990635  1.000000  0.100360\n",
       "Volume  0.100327  0.101652  0.098998  0.100360  1.000000"
      ]
     },
     "execution_count": 10,
     "metadata": {},
     "output_type": "execute_result"
    }
   ],
   "source": [
    "# all features except volume correlate highly with each other\n",
    "\n",
    "df.corr(method = 'kendall')"
   ]
  },
  {
   "cell_type": "code",
   "execution_count": 11,
   "metadata": {},
   "outputs": [
    {
     "data": {
      "text/html": [
       "<div>\n",
       "<style scoped>\n",
       "    .dataframe tbody tr th:only-of-type {\n",
       "        vertical-align: middle;\n",
       "    }\n",
       "\n",
       "    .dataframe tbody tr th {\n",
       "        vertical-align: top;\n",
       "    }\n",
       "\n",
       "    .dataframe thead th {\n",
       "        text-align: right;\n",
       "    }\n",
       "</style>\n",
       "<table border=\"1\" class=\"dataframe\">\n",
       "  <thead>\n",
       "    <tr style=\"text-align: right;\">\n",
       "      <th></th>\n",
       "      <th>Open</th>\n",
       "      <th>High</th>\n",
       "      <th>Low</th>\n",
       "      <th>Close</th>\n",
       "      <th>Volume</th>\n",
       "    </tr>\n",
       "  </thead>\n",
       "  <tbody>\n",
       "    <tr>\n",
       "      <th>Open</th>\n",
       "      <td>1.000000</td>\n",
       "      <td>0.999713</td>\n",
       "      <td>0.999374</td>\n",
       "      <td>0.998930</td>\n",
       "      <td>-0.001500</td>\n",
       "    </tr>\n",
       "    <tr>\n",
       "      <th>High</th>\n",
       "      <td>0.999713</td>\n",
       "      <td>1.000000</td>\n",
       "      <td>0.999448</td>\n",
       "      <td>0.999476</td>\n",
       "      <td>-0.001498</td>\n",
       "    </tr>\n",
       "    <tr>\n",
       "      <th>Low</th>\n",
       "      <td>0.999374</td>\n",
       "      <td>0.999448</td>\n",
       "      <td>1.000000</td>\n",
       "      <td>0.999651</td>\n",
       "      <td>-0.001506</td>\n",
       "    </tr>\n",
       "    <tr>\n",
       "      <th>Close</th>\n",
       "      <td>0.998930</td>\n",
       "      <td>0.999476</td>\n",
       "      <td>0.999651</td>\n",
       "      <td>1.000000</td>\n",
       "      <td>-0.001501</td>\n",
       "    </tr>\n",
       "    <tr>\n",
       "      <th>Volume</th>\n",
       "      <td>-0.001500</td>\n",
       "      <td>-0.001498</td>\n",
       "      <td>-0.001506</td>\n",
       "      <td>-0.001501</td>\n",
       "      <td>1.000000</td>\n",
       "    </tr>\n",
       "  </tbody>\n",
       "</table>\n",
       "</div>"
      ],
      "text/plain": [
       "            Open      High       Low     Close    Volume\n",
       "Open    1.000000  0.999713  0.999374  0.998930 -0.001500\n",
       "High    0.999713  1.000000  0.999448  0.999476 -0.001498\n",
       "Low     0.999374  0.999448  1.000000  0.999651 -0.001506\n",
       "Close   0.998930  0.999476  0.999651  1.000000 -0.001501\n",
       "Volume -0.001500 -0.001498 -0.001506 -0.001501  1.000000"
      ]
     },
     "execution_count": 11,
     "metadata": {},
     "output_type": "execute_result"
    }
   ],
   "source": [
    "# this correlation appears to be linear, so regression will model the relationships nicely\n",
    "\n",
    "df.corr(method = 'pearson')"
   ]
  },
  {
   "cell_type": "code",
   "execution_count": 12,
   "metadata": {},
   "outputs": [],
   "source": [
    "est = PassiveAggressiveRegressor()\n",
    "parameters = {'C': [.5,1,2]}"
   ]
  },
  {
   "cell_type": "code",
   "execution_count": 13,
   "metadata": {},
   "outputs": [
    {
     "name": "stdout",
     "output_type": "stream",
     "text": [
      "101.07403971400001\n"
     ]
    }
   ],
   "source": [
    "start = timeit.default_timer()\n",
    "search = GridSearchCV(est, parameters, cv = 3).fit(X_train_da, y_train_da.ravel())\n",
    "end = timeit.default_timer()\n",
    "\n",
    "print(end - start)"
   ]
  },
  {
   "cell_type": "code",
   "execution_count": 14,
   "metadata": {},
   "outputs": [
    {
     "name": "stdout",
     "output_type": "stream",
     "text": [
      "2.1451425490000133\n"
     ]
    }
   ],
   "source": [
    "inc = Incremental(PassiveAggressiveRegressor(C=search.best_estimator_.get_params()['C']))\n",
    "\n",
    "start = timeit.default_timer()\n",
    "inc.fit(X_train_da, y_train_da.ravel())\n",
    "end = timeit.default_timer()\n",
    "\n",
    "print(end - start)"
   ]
  },
  {
   "cell_type": "code",
   "execution_count": 15,
   "metadata": {},
   "outputs": [
    {
     "data": {
      "text/plain": [
       "0.9994096590670168"
      ]
     },
     "execution_count": 15,
     "metadata": {},
     "output_type": "execute_result"
    }
   ],
   "source": [
    "# r2 score\n",
    "\n",
    "inc.score(X_test_da, y_test_da)"
   ]
  },
  {
   "cell_type": "code",
   "execution_count": 16,
   "metadata": {},
   "outputs": [
    {
     "data": {
      "text/plain": [
       "0.9994097411081627"
      ]
     },
     "execution_count": 16,
     "metadata": {},
     "output_type": "execute_result"
    }
   ],
   "source": [
    "# explained variance score\n",
    "\n",
    "explained_variance_score(y_test, inc.predict(X_test))"
   ]
  },
  {
   "cell_type": "code",
   "execution_count": 17,
   "metadata": {},
   "outputs": [
    {
     "data": {
      "text/plain": [
       "0.0005555187512746314"
      ]
     },
     "execution_count": 17,
     "metadata": {},
     "output_type": "execute_result"
    }
   ],
   "source": [
    "# mean-squared error\n",
    "\n",
    "mean_squared_error(y_test, inc.predict(X_test))"
   ]
  },
  {
   "cell_type": "code",
   "execution_count": 18,
   "metadata": {},
   "outputs": [],
   "source": [
    "#####################################################\n",
    "# let's try one variable since the scores are so high\n",
    "#####################################################"
   ]
  },
  {
   "cell_type": "code",
   "execution_count": 19,
   "metadata": {},
   "outputs": [],
   "source": [
    "X_train_da2 = da.from_array(X_train.Open.values.reshape(-1,1), chunks = (1000000, 1))\n",
    "\n",
    "X_test_da2 = da.from_array(X_test.Open.values.reshape(-1,1), chunks = (1000000, 1))"
   ]
  },
  {
   "cell_type": "code",
   "execution_count": 20,
   "metadata": {},
   "outputs": [],
   "source": [
    "X_train_da2, X_test_da2 = dask.persist(X_train_da2, X_test_da2)"
   ]
  },
  {
   "cell_type": "code",
   "execution_count": 21,
   "metadata": {},
   "outputs": [
    {
     "name": "stdout",
     "output_type": "stream",
     "text": [
      "70.86607497000003\n"
     ]
    }
   ],
   "source": [
    "start = timeit.default_timer()\n",
    "search2 = GridSearchCV(est, parameters, cv = 3).fit(X_train_da2, y_train_da.ravel())\n",
    "end = timeit.default_timer()\n",
    "\n",
    "print(end - start)"
   ]
  },
  {
   "cell_type": "code",
   "execution_count": 22,
   "metadata": {},
   "outputs": [
    {
     "name": "stdout",
     "output_type": "stream",
     "text": [
      "1.7476070349999873\n"
     ]
    }
   ],
   "source": [
    "inc2 = Incremental(PassiveAggressiveRegressor(C=search2.best_estimator_.get_params()['C']))\n",
    "\n",
    "start = timeit.default_timer()\n",
    "inc2.fit(X_train_da2, y_train_da.ravel())\n",
    "end = timeit.default_timer()\n",
    "\n",
    "print(end - start)"
   ]
  },
  {
   "cell_type": "code",
   "execution_count": 23,
   "metadata": {},
   "outputs": [
    {
     "data": {
      "text/plain": [
       "0.9932683380144124"
      ]
     },
     "execution_count": 23,
     "metadata": {},
     "output_type": "execute_result"
    }
   ],
   "source": [
    "# r2 score\n",
    "\n",
    "inc2.score(X_test_da2, y_test_da)"
   ]
  },
  {
   "cell_type": "code",
   "execution_count": 24,
   "metadata": {},
   "outputs": [
    {
     "data": {
      "text/plain": [
       "0.99691613084817"
      ]
     },
     "execution_count": 24,
     "metadata": {},
     "output_type": "execute_result"
    }
   ],
   "source": [
    "# explained variance score\n",
    "\n",
    "explained_variance_score(y_test, inc2.predict(X_test.Open.values.reshape(-1,1)))"
   ]
  },
  {
   "cell_type": "code",
   "execution_count": 25,
   "metadata": {},
   "outputs": [
    {
     "data": {
      "text/plain": [
       "0.006334584392343516"
      ]
     },
     "execution_count": 25,
     "metadata": {},
     "output_type": "execute_result"
    }
   ],
   "source": [
    "# mean-squared error\n",
    "\n",
    "mean_squared_error(y_test, inc2.predict(X_test.Open.values.reshape(-1,1)))"
   ]
  },
  {
   "cell_type": "code",
   "execution_count": 26,
   "metadata": {},
   "outputs": [],
   "source": [
    "# one variable seems to suffice\n",
    "# let's check the results on a different data set"
   ]
  },
  {
   "cell_type": "code",
   "execution_count": 27,
   "metadata": {},
   "outputs": [],
   "source": [
    "df2 = pd.read_csv('cleaned_data.csv').rename(columns = {'Unnamed: 0':'date'})"
   ]
  },
  {
   "cell_type": "code",
   "execution_count": 28,
   "metadata": {},
   "outputs": [],
   "source": [
    "import re\n",
    "matches = {i:re.search('2018.*', df2.date[i]) for i in range(len(df2.date)) \n",
    "           if re.search('2018.*', df2.date[i]) is not None}\n"
   ]
  },
  {
   "cell_type": "code",
   "execution_count": 29,
   "metadata": {},
   "outputs": [],
   "source": [
    "# df2_scaled = StandardScaler()\\\n",
    "#     .fit_transform(df2[list(matches.keys())[0]:list(matches.keys())[-1]+1].open.values.reshape(-1,1))"
   ]
  },
  {
   "cell_type": "code",
   "execution_count": 30,
   "metadata": {},
   "outputs": [],
   "source": [
    "\n",
    "# inc2.score(df2[list(matches.keys())[0]:list(matches.keys())[-1]+1]\n",
    "#                                       .open.values.reshape(-1,1), \n",
    "#            df2.close.values[list(matches.keys())[0]:list(matches.keys())[-1]+1].reshape(-1,1))"
   ]
  },
  {
   "cell_type": "code",
   "execution_count": 31,
   "metadata": {},
   "outputs": [
    {
     "data": {
      "text/plain": [
       "0.9146352061649307"
      ]
     },
     "execution_count": 31,
     "metadata": {},
     "output_type": "execute_result"
    }
   ],
   "source": [
    "# explained variance score\n",
    "\n",
    "explained_variance_score(df2.close.values[list(matches.keys())[0]:list(matches.keys())[-1]+1], \n",
    "                         inc2.predict(df2[list(matches.keys())[0]:list(matches.keys())[-1]+1]\n",
    "                                      .open.values.reshape(-1,1)))"
   ]
  }
 ],
 "metadata": {
  "kernelspec": {
   "display_name": "Python 3",
   "language": "python",
   "name": "python3"
  },
  "language_info": {
   "codemirror_mode": {
    "name": "ipython",
    "version": 3
   },
   "file_extension": ".py",
   "mimetype": "text/x-python",
   "name": "python",
   "nbconvert_exporter": "python",
   "pygments_lexer": "ipython3",
   "version": "3.7.3"
  }
 },
 "nbformat": 4,
 "nbformat_minor": 2
}
