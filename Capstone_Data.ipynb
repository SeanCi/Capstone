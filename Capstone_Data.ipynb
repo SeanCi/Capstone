{
 "cells": [
  {
   "cell_type": "markdown",
   "metadata": {},
   "source": [
    "This notebook cleans the JP Morgan daily stock price data collected from 2000 to 2020.\n",
    "This was originally supposed to be my capstone data, but my mentor thought the dataset was too small.\n",
    "\n",
    "Instead, I use the data cleaned in this notebook in the capstone to show how the capstone model can be used to make predictions into the future."
   ]
  },
  {
   "cell_type": "code",
   "execution_count": 1,
   "metadata": {},
   "outputs": [],
   "source": [
    "import pandas as pd\n",
    "import requests\n",
    "import re\n",
    "import matplotlib.pyplot as plt\n",
    "import numpy as np\n",
    "\n"
   ]
  },
  {
   "cell_type": "markdown",
   "metadata": {},
   "source": [
    "The dataset comes from a website called Alpha Vantage.\n",
    "I acquired my own key from there to be able to access their API."
   ]
  },
  {
   "cell_type": "code",
   "execution_count": 2,
   "metadata": {},
   "outputs": [],
   "source": [
    "key = 'I2ZWBIOL69PFCZV1'"
   ]
  },
  {
   "cell_type": "code",
   "execution_count": 3,
   "metadata": {},
   "outputs": [],
   "source": [
    "response = requests.get('https://www.alphavantage.co/query?function=TIME_SERIES_DAILY_ADJUSTED&symbol=JPM&outputsize=full&apikey=key')\n"
   ]
  },
  {
   "cell_type": "markdown",
   "metadata": {},
   "source": [
    "After the data is requested, it is normalized and converted into a csv file."
   ]
  },
  {
   "cell_type": "code",
   "execution_count": 4,
   "metadata": {},
   "outputs": [],
   "source": [
    "from pandas.io.json import json_normalize\n",
    "\n",
    "daily_df = json_normalize(response.json())"
   ]
  },
  {
   "cell_type": "code",
   "execution_count": 5,
   "metadata": {},
   "outputs": [
    {
     "data": {
      "text/html": [
       "<div>\n",
       "<style scoped>\n",
       "    .dataframe tbody tr th:only-of-type {\n",
       "        vertical-align: middle;\n",
       "    }\n",
       "\n",
       "    .dataframe tbody tr th {\n",
       "        vertical-align: top;\n",
       "    }\n",
       "\n",
       "    .dataframe thead th {\n",
       "        text-align: right;\n",
       "    }\n",
       "</style>\n",
       "<table border=\"1\" class=\"dataframe\">\n",
       "  <thead>\n",
       "    <tr style=\"text-align: right;\">\n",
       "      <th></th>\n",
       "      <th>Meta Data.1. Information</th>\n",
       "      <th>Meta Data.2. Symbol</th>\n",
       "      <th>Meta Data.3. Last Refreshed</th>\n",
       "      <th>Meta Data.4. Output Size</th>\n",
       "      <th>Meta Data.5. Time Zone</th>\n",
       "      <th>Time Series (Daily).2020-02-14.1. open</th>\n",
       "      <th>Time Series (Daily).2020-02-14.2. high</th>\n",
       "      <th>Time Series (Daily).2020-02-14.3. low</th>\n",
       "      <th>Time Series (Daily).2020-02-14.4. close</th>\n",
       "      <th>Time Series (Daily).2020-02-14.5. adjusted close</th>\n",
       "      <th>...</th>\n",
       "      <th>Time Series (Daily).2000-02-15.7. dividend amount</th>\n",
       "      <th>Time Series (Daily).2000-02-15.8. split coefficient</th>\n",
       "      <th>Time Series (Daily).2000-02-14.1. open</th>\n",
       "      <th>Time Series (Daily).2000-02-14.2. high</th>\n",
       "      <th>Time Series (Daily).2000-02-14.3. low</th>\n",
       "      <th>Time Series (Daily).2000-02-14.4. close</th>\n",
       "      <th>Time Series (Daily).2000-02-14.5. adjusted close</th>\n",
       "      <th>Time Series (Daily).2000-02-14.6. volume</th>\n",
       "      <th>Time Series (Daily).2000-02-14.7. dividend amount</th>\n",
       "      <th>Time Series (Daily).2000-02-14.8. split coefficient</th>\n",
       "    </tr>\n",
       "  </thead>\n",
       "  <tbody>\n",
       "    <tr>\n",
       "      <td>0</td>\n",
       "      <td>Daily Time Series with Splits and Dividend Events</td>\n",
       "      <td>JPM</td>\n",
       "      <td>2020-02-14</td>\n",
       "      <td>Full size</td>\n",
       "      <td>US/Eastern</td>\n",
       "      <td>137.8400</td>\n",
       "      <td>138.1900</td>\n",
       "      <td>136.9400</td>\n",
       "      <td>137.4600</td>\n",
       "      <td>137.4600</td>\n",
       "      <td>...</td>\n",
       "      <td>0.0000</td>\n",
       "      <td>1.0000</td>\n",
       "      <td>82.2500</td>\n",
       "      <td>83.4400</td>\n",
       "      <td>79.0600</td>\n",
       "      <td>79.0600</td>\n",
       "      <td>28.4725</td>\n",
       "      <td>3936467</td>\n",
       "      <td>0.0000</td>\n",
       "      <td>1.0000</td>\n",
       "    </tr>\n",
       "  </tbody>\n",
       "</table>\n",
       "<p>1 rows × 40269 columns</p>\n",
       "</div>"
      ],
      "text/plain": [
       "                            Meta Data.1. Information Meta Data.2. Symbol  \\\n",
       "0  Daily Time Series with Splits and Dividend Events                 JPM   \n",
       "\n",
       "  Meta Data.3. Last Refreshed Meta Data.4. Output Size Meta Data.5. Time Zone  \\\n",
       "0                  2020-02-14                Full size             US/Eastern   \n",
       "\n",
       "  Time Series (Daily).2020-02-14.1. open  \\\n",
       "0                               137.8400   \n",
       "\n",
       "  Time Series (Daily).2020-02-14.2. high  \\\n",
       "0                               138.1900   \n",
       "\n",
       "  Time Series (Daily).2020-02-14.3. low  \\\n",
       "0                              136.9400   \n",
       "\n",
       "  Time Series (Daily).2020-02-14.4. close  \\\n",
       "0                                137.4600   \n",
       "\n",
       "  Time Series (Daily).2020-02-14.5. adjusted close  ...  \\\n",
       "0                                         137.4600  ...   \n",
       "\n",
       "  Time Series (Daily).2000-02-15.7. dividend amount  \\\n",
       "0                                            0.0000   \n",
       "\n",
       "  Time Series (Daily).2000-02-15.8. split coefficient  \\\n",
       "0                                             1.0000    \n",
       "\n",
       "  Time Series (Daily).2000-02-14.1. open  \\\n",
       "0                                82.2500   \n",
       "\n",
       "  Time Series (Daily).2000-02-14.2. high  \\\n",
       "0                                83.4400   \n",
       "\n",
       "  Time Series (Daily).2000-02-14.3. low  \\\n",
       "0                               79.0600   \n",
       "\n",
       "  Time Series (Daily).2000-02-14.4. close  \\\n",
       "0                                 79.0600   \n",
       "\n",
       "  Time Series (Daily).2000-02-14.5. adjusted close  \\\n",
       "0                                          28.4725   \n",
       "\n",
       "  Time Series (Daily).2000-02-14.6. volume  \\\n",
       "0                                  3936467   \n",
       "\n",
       "  Time Series (Daily).2000-02-14.7. dividend amount  \\\n",
       "0                                            0.0000   \n",
       "\n",
       "  Time Series (Daily).2000-02-14.8. split coefficient  \n",
       "0                                             1.0000   \n",
       "\n",
       "[1 rows x 40269 columns]"
      ]
     },
     "execution_count": 5,
     "metadata": {},
     "output_type": "execute_result"
    }
   ],
   "source": [
    "daily_df"
   ]
  },
  {
   "cell_type": "markdown",
   "metadata": {},
   "source": [
    "The data is then converted into a dataframe, columns are renamed, and datatypes changed."
   ]
  },
  {
   "cell_type": "code",
   "execution_count": 6,
   "metadata": {},
   "outputs": [],
   "source": [
    "df = pd.DataFrame(response.json()['Time Series (Daily)'].values())"
   ]
  },
  {
   "cell_type": "code",
   "execution_count": 7,
   "metadata": {},
   "outputs": [
    {
     "data": {
      "text/html": [
       "<div>\n",
       "<style scoped>\n",
       "    .dataframe tbody tr th:only-of-type {\n",
       "        vertical-align: middle;\n",
       "    }\n",
       "\n",
       "    .dataframe tbody tr th {\n",
       "        vertical-align: top;\n",
       "    }\n",
       "\n",
       "    .dataframe thead th {\n",
       "        text-align: right;\n",
       "    }\n",
       "</style>\n",
       "<table border=\"1\" class=\"dataframe\">\n",
       "  <thead>\n",
       "    <tr style=\"text-align: right;\">\n",
       "      <th></th>\n",
       "      <th>1. open</th>\n",
       "      <th>2. high</th>\n",
       "      <th>3. low</th>\n",
       "      <th>4. close</th>\n",
       "      <th>5. adjusted close</th>\n",
       "      <th>6. volume</th>\n",
       "      <th>7. dividend amount</th>\n",
       "      <th>8. split coefficient</th>\n",
       "    </tr>\n",
       "  </thead>\n",
       "  <tbody>\n",
       "    <tr>\n",
       "      <td>0</td>\n",
       "      <td>137.8400</td>\n",
       "      <td>138.1900</td>\n",
       "      <td>136.9400</td>\n",
       "      <td>137.4600</td>\n",
       "      <td>137.4600</td>\n",
       "      <td>6627562</td>\n",
       "      <td>0.0000</td>\n",
       "      <td>1.0000</td>\n",
       "    </tr>\n",
       "    <tr>\n",
       "      <td>1</td>\n",
       "      <td>137.7500</td>\n",
       "      <td>138.3400</td>\n",
       "      <td>136.4000</td>\n",
       "      <td>137.8800</td>\n",
       "      <td>137.8800</td>\n",
       "      <td>7446249</td>\n",
       "      <td>0.0000</td>\n",
       "      <td>1.0000</td>\n",
       "    </tr>\n",
       "    <tr>\n",
       "      <td>2</td>\n",
       "      <td>138.6000</td>\n",
       "      <td>139.2850</td>\n",
       "      <td>137.8000</td>\n",
       "      <td>138.0000</td>\n",
       "      <td>138.0000</td>\n",
       "      <td>7948022</td>\n",
       "      <td>0.0000</td>\n",
       "      <td>1.0000</td>\n",
       "    </tr>\n",
       "    <tr>\n",
       "      <td>3</td>\n",
       "      <td>138.2600</td>\n",
       "      <td>138.8200</td>\n",
       "      <td>137.7800</td>\n",
       "      <td>138.0000</td>\n",
       "      <td>138.0000</td>\n",
       "      <td>6577580</td>\n",
       "      <td>0.0000</td>\n",
       "      <td>1.0000</td>\n",
       "    </tr>\n",
       "    <tr>\n",
       "      <td>4</td>\n",
       "      <td>136.9500</td>\n",
       "      <td>137.8510</td>\n",
       "      <td>136.7500</td>\n",
       "      <td>137.7400</td>\n",
       "      <td>137.7400</td>\n",
       "      <td>5958529</td>\n",
       "      <td>0.0000</td>\n",
       "      <td>1.0000</td>\n",
       "    </tr>\n",
       "    <tr>\n",
       "      <td>...</td>\n",
       "      <td>...</td>\n",
       "      <td>...</td>\n",
       "      <td>...</td>\n",
       "      <td>...</td>\n",
       "      <td>...</td>\n",
       "      <td>...</td>\n",
       "      <td>...</td>\n",
       "      <td>...</td>\n",
       "    </tr>\n",
       "    <tr>\n",
       "      <td>5028</td>\n",
       "      <td>78.0600</td>\n",
       "      <td>78.5600</td>\n",
       "      <td>74.5600</td>\n",
       "      <td>74.7500</td>\n",
       "      <td>26.9203</td>\n",
       "      <td>5414200</td>\n",
       "      <td>0.0000</td>\n",
       "      <td>1.0000</td>\n",
       "    </tr>\n",
       "    <tr>\n",
       "      <td>5029</td>\n",
       "      <td>80.6200</td>\n",
       "      <td>81.5000</td>\n",
       "      <td>77.8100</td>\n",
       "      <td>78.3800</td>\n",
       "      <td>28.2276</td>\n",
       "      <td>3810800</td>\n",
       "      <td>0.0000</td>\n",
       "      <td>1.0000</td>\n",
       "    </tr>\n",
       "    <tr>\n",
       "      <td>5030</td>\n",
       "      <td>81.0000</td>\n",
       "      <td>82.1900</td>\n",
       "      <td>79.0000</td>\n",
       "      <td>79.5000</td>\n",
       "      <td>28.6310</td>\n",
       "      <td>3219800</td>\n",
       "      <td>0.0000</td>\n",
       "      <td>1.0000</td>\n",
       "    </tr>\n",
       "    <tr>\n",
       "      <td>5031</td>\n",
       "      <td>80.0600</td>\n",
       "      <td>82.5000</td>\n",
       "      <td>79.6200</td>\n",
       "      <td>81.0600</td>\n",
       "      <td>29.1928</td>\n",
       "      <td>5977000</td>\n",
       "      <td>0.0000</td>\n",
       "      <td>1.0000</td>\n",
       "    </tr>\n",
       "    <tr>\n",
       "      <td>5032</td>\n",
       "      <td>82.2500</td>\n",
       "      <td>83.4400</td>\n",
       "      <td>79.0600</td>\n",
       "      <td>79.0600</td>\n",
       "      <td>28.4725</td>\n",
       "      <td>3936467</td>\n",
       "      <td>0.0000</td>\n",
       "      <td>1.0000</td>\n",
       "    </tr>\n",
       "  </tbody>\n",
       "</table>\n",
       "<p>5033 rows × 8 columns</p>\n",
       "</div>"
      ],
      "text/plain": [
       "       1. open   2. high    3. low  4. close 5. adjusted close 6. volume  \\\n",
       "0     137.8400  138.1900  136.9400  137.4600          137.4600   6627562   \n",
       "1     137.7500  138.3400  136.4000  137.8800          137.8800   7446249   \n",
       "2     138.6000  139.2850  137.8000  138.0000          138.0000   7948022   \n",
       "3     138.2600  138.8200  137.7800  138.0000          138.0000   6577580   \n",
       "4     136.9500  137.8510  136.7500  137.7400          137.7400   5958529   \n",
       "...        ...       ...       ...       ...               ...       ...   \n",
       "5028   78.0600   78.5600   74.5600   74.7500           26.9203   5414200   \n",
       "5029   80.6200   81.5000   77.8100   78.3800           28.2276   3810800   \n",
       "5030   81.0000   82.1900   79.0000   79.5000           28.6310   3219800   \n",
       "5031   80.0600   82.5000   79.6200   81.0600           29.1928   5977000   \n",
       "5032   82.2500   83.4400   79.0600   79.0600           28.4725   3936467   \n",
       "\n",
       "     7. dividend amount 8. split coefficient  \n",
       "0                0.0000               1.0000  \n",
       "1                0.0000               1.0000  \n",
       "2                0.0000               1.0000  \n",
       "3                0.0000               1.0000  \n",
       "4                0.0000               1.0000  \n",
       "...                 ...                  ...  \n",
       "5028             0.0000               1.0000  \n",
       "5029             0.0000               1.0000  \n",
       "5030             0.0000               1.0000  \n",
       "5031             0.0000               1.0000  \n",
       "5032             0.0000               1.0000  \n",
       "\n",
       "[5033 rows x 8 columns]"
      ]
     },
     "execution_count": 7,
     "metadata": {},
     "output_type": "execute_result"
    }
   ],
   "source": [
    "df"
   ]
  },
  {
   "cell_type": "code",
   "execution_count": 8,
   "metadata": {},
   "outputs": [],
   "source": [
    "response_keys = list(response.json()['Time Series (Daily)'].keys())\n",
    "\n",
    "df.rename(columns = {df.columns[i]: ''.join(re.search(r'(\\d+\\.\\s)(.*)', \n",
    "    df.columns[i]).group(2)) for i in range(len(df.columns)) \n",
    "        if (re.search(r'(\\d+\\.\\s)(.*)', df.columns[i])) is not None},\n",
    "    index = {range(len(df))[i]: response_keys[i] for i in range(len(df))},\n",
    "    inplace = True)"
   ]
  },
  {
   "cell_type": "code",
   "execution_count": 9,
   "metadata": {},
   "outputs": [
    {
     "data": {
      "text/html": [
       "<div>\n",
       "<style scoped>\n",
       "    .dataframe tbody tr th:only-of-type {\n",
       "        vertical-align: middle;\n",
       "    }\n",
       "\n",
       "    .dataframe tbody tr th {\n",
       "        vertical-align: top;\n",
       "    }\n",
       "\n",
       "    .dataframe thead th {\n",
       "        text-align: right;\n",
       "    }\n",
       "</style>\n",
       "<table border=\"1\" class=\"dataframe\">\n",
       "  <thead>\n",
       "    <tr style=\"text-align: right;\">\n",
       "      <th></th>\n",
       "      <th>open</th>\n",
       "      <th>high</th>\n",
       "      <th>low</th>\n",
       "      <th>close</th>\n",
       "      <th>adjusted close</th>\n",
       "      <th>volume</th>\n",
       "      <th>dividend amount</th>\n",
       "      <th>split coefficient</th>\n",
       "    </tr>\n",
       "  </thead>\n",
       "  <tbody>\n",
       "    <tr>\n",
       "      <td>2020-02-14</td>\n",
       "      <td>137.8400</td>\n",
       "      <td>138.1900</td>\n",
       "      <td>136.9400</td>\n",
       "      <td>137.4600</td>\n",
       "      <td>137.4600</td>\n",
       "      <td>6627562</td>\n",
       "      <td>0.0000</td>\n",
       "      <td>1.0000</td>\n",
       "    </tr>\n",
       "    <tr>\n",
       "      <td>2020-02-13</td>\n",
       "      <td>137.7500</td>\n",
       "      <td>138.3400</td>\n",
       "      <td>136.4000</td>\n",
       "      <td>137.8800</td>\n",
       "      <td>137.8800</td>\n",
       "      <td>7446249</td>\n",
       "      <td>0.0000</td>\n",
       "      <td>1.0000</td>\n",
       "    </tr>\n",
       "    <tr>\n",
       "      <td>2020-02-12</td>\n",
       "      <td>138.6000</td>\n",
       "      <td>139.2850</td>\n",
       "      <td>137.8000</td>\n",
       "      <td>138.0000</td>\n",
       "      <td>138.0000</td>\n",
       "      <td>7948022</td>\n",
       "      <td>0.0000</td>\n",
       "      <td>1.0000</td>\n",
       "    </tr>\n",
       "    <tr>\n",
       "      <td>2020-02-11</td>\n",
       "      <td>138.2600</td>\n",
       "      <td>138.8200</td>\n",
       "      <td>137.7800</td>\n",
       "      <td>138.0000</td>\n",
       "      <td>138.0000</td>\n",
       "      <td>6577580</td>\n",
       "      <td>0.0000</td>\n",
       "      <td>1.0000</td>\n",
       "    </tr>\n",
       "    <tr>\n",
       "      <td>2020-02-10</td>\n",
       "      <td>136.9500</td>\n",
       "      <td>137.8510</td>\n",
       "      <td>136.7500</td>\n",
       "      <td>137.7400</td>\n",
       "      <td>137.7400</td>\n",
       "      <td>5958529</td>\n",
       "      <td>0.0000</td>\n",
       "      <td>1.0000</td>\n",
       "    </tr>\n",
       "    <tr>\n",
       "      <td>...</td>\n",
       "      <td>...</td>\n",
       "      <td>...</td>\n",
       "      <td>...</td>\n",
       "      <td>...</td>\n",
       "      <td>...</td>\n",
       "      <td>...</td>\n",
       "      <td>...</td>\n",
       "      <td>...</td>\n",
       "    </tr>\n",
       "    <tr>\n",
       "      <td>2000-02-18</td>\n",
       "      <td>78.0600</td>\n",
       "      <td>78.5600</td>\n",
       "      <td>74.5600</td>\n",
       "      <td>74.7500</td>\n",
       "      <td>26.9203</td>\n",
       "      <td>5414200</td>\n",
       "      <td>0.0000</td>\n",
       "      <td>1.0000</td>\n",
       "    </tr>\n",
       "    <tr>\n",
       "      <td>2000-02-17</td>\n",
       "      <td>80.6200</td>\n",
       "      <td>81.5000</td>\n",
       "      <td>77.8100</td>\n",
       "      <td>78.3800</td>\n",
       "      <td>28.2276</td>\n",
       "      <td>3810800</td>\n",
       "      <td>0.0000</td>\n",
       "      <td>1.0000</td>\n",
       "    </tr>\n",
       "    <tr>\n",
       "      <td>2000-02-16</td>\n",
       "      <td>81.0000</td>\n",
       "      <td>82.1900</td>\n",
       "      <td>79.0000</td>\n",
       "      <td>79.5000</td>\n",
       "      <td>28.6310</td>\n",
       "      <td>3219800</td>\n",
       "      <td>0.0000</td>\n",
       "      <td>1.0000</td>\n",
       "    </tr>\n",
       "    <tr>\n",
       "      <td>2000-02-15</td>\n",
       "      <td>80.0600</td>\n",
       "      <td>82.5000</td>\n",
       "      <td>79.6200</td>\n",
       "      <td>81.0600</td>\n",
       "      <td>29.1928</td>\n",
       "      <td>5977000</td>\n",
       "      <td>0.0000</td>\n",
       "      <td>1.0000</td>\n",
       "    </tr>\n",
       "    <tr>\n",
       "      <td>2000-02-14</td>\n",
       "      <td>82.2500</td>\n",
       "      <td>83.4400</td>\n",
       "      <td>79.0600</td>\n",
       "      <td>79.0600</td>\n",
       "      <td>28.4725</td>\n",
       "      <td>3936467</td>\n",
       "      <td>0.0000</td>\n",
       "      <td>1.0000</td>\n",
       "    </tr>\n",
       "  </tbody>\n",
       "</table>\n",
       "<p>5033 rows × 8 columns</p>\n",
       "</div>"
      ],
      "text/plain": [
       "                open      high       low     close adjusted close   volume  \\\n",
       "2020-02-14  137.8400  138.1900  136.9400  137.4600       137.4600  6627562   \n",
       "2020-02-13  137.7500  138.3400  136.4000  137.8800       137.8800  7446249   \n",
       "2020-02-12  138.6000  139.2850  137.8000  138.0000       138.0000  7948022   \n",
       "2020-02-11  138.2600  138.8200  137.7800  138.0000       138.0000  6577580   \n",
       "2020-02-10  136.9500  137.8510  136.7500  137.7400       137.7400  5958529   \n",
       "...              ...       ...       ...       ...            ...      ...   \n",
       "2000-02-18   78.0600   78.5600   74.5600   74.7500        26.9203  5414200   \n",
       "2000-02-17   80.6200   81.5000   77.8100   78.3800        28.2276  3810800   \n",
       "2000-02-16   81.0000   82.1900   79.0000   79.5000        28.6310  3219800   \n",
       "2000-02-15   80.0600   82.5000   79.6200   81.0600        29.1928  5977000   \n",
       "2000-02-14   82.2500   83.4400   79.0600   79.0600        28.4725  3936467   \n",
       "\n",
       "           dividend amount split coefficient  \n",
       "2020-02-14          0.0000            1.0000  \n",
       "2020-02-13          0.0000            1.0000  \n",
       "2020-02-12          0.0000            1.0000  \n",
       "2020-02-11          0.0000            1.0000  \n",
       "2020-02-10          0.0000            1.0000  \n",
       "...                    ...               ...  \n",
       "2000-02-18          0.0000            1.0000  \n",
       "2000-02-17          0.0000            1.0000  \n",
       "2000-02-16          0.0000            1.0000  \n",
       "2000-02-15          0.0000            1.0000  \n",
       "2000-02-14          0.0000            1.0000  \n",
       "\n",
       "[5033 rows x 8 columns]"
      ]
     },
     "execution_count": 9,
     "metadata": {},
     "output_type": "execute_result"
    }
   ],
   "source": [
    "df"
   ]
  },
  {
   "cell_type": "code",
   "execution_count": 10,
   "metadata": {},
   "outputs": [
    {
     "name": "stdout",
     "output_type": "stream",
     "text": [
      "<class 'pandas.core.frame.DataFrame'>\n",
      "Index: 5033 entries, 2020-02-14 to 2000-02-14\n",
      "Data columns (total 8 columns):\n",
      "open                 5033 non-null object\n",
      "high                 5033 non-null object\n",
      "low                  5033 non-null object\n",
      "close                5033 non-null object\n",
      "adjusted close       5033 non-null object\n",
      "volume               5033 non-null object\n",
      "dividend amount      5033 non-null object\n",
      "split coefficient    5033 non-null object\n",
      "dtypes: object(8)\n",
      "memory usage: 353.9+ KB\n",
      "None\n"
     ]
    }
   ],
   "source": [
    "print(df.info())"
   ]
  },
  {
   "cell_type": "code",
   "execution_count": 11,
   "metadata": {},
   "outputs": [
    {
     "name": "stdout",
     "output_type": "stream",
     "text": [
      "open                 object\n",
      "high                 object\n",
      "low                  object\n",
      "close                object\n",
      "adjusted close       object\n",
      "volume               object\n",
      "dividend amount      object\n",
      "split coefficient    object\n",
      "dtype: object\n"
     ]
    }
   ],
   "source": [
    "print(df.dtypes)"
   ]
  },
  {
   "cell_type": "code",
   "execution_count": 12,
   "metadata": {},
   "outputs": [
    {
     "name": "stdout",
     "output_type": "stream",
     "text": [
      "open                 float64\n",
      "high                 float64\n",
      "low                  float64\n",
      "close                float64\n",
      "adjusted close       float64\n",
      "volume               float64\n",
      "dividend amount      float64\n",
      "split coefficient    float64\n",
      "dtype: object\n"
     ]
    }
   ],
   "source": [
    "df = df.astype('float')\n",
    "print(df.dtypes)"
   ]
  },
  {
   "cell_type": "markdown",
   "metadata": {},
   "source": [
    "There appears to be no extreme outliers to worry about:"
   ]
  },
  {
   "cell_type": "code",
   "execution_count": 13,
   "metadata": {},
   "outputs": [
    {
     "data": {
      "text/html": [
       "<div>\n",
       "<style scoped>\n",
       "    .dataframe tbody tr th:only-of-type {\n",
       "        vertical-align: middle;\n",
       "    }\n",
       "\n",
       "    .dataframe tbody tr th {\n",
       "        vertical-align: top;\n",
       "    }\n",
       "\n",
       "    .dataframe thead th {\n",
       "        text-align: right;\n",
       "    }\n",
       "</style>\n",
       "<table border=\"1\" class=\"dataframe\">\n",
       "  <thead>\n",
       "    <tr style=\"text-align: right;\">\n",
       "      <th></th>\n",
       "      <th>open</th>\n",
       "      <th>high</th>\n",
       "      <th>low</th>\n",
       "      <th>close</th>\n",
       "      <th>adjusted close</th>\n",
       "      <th>volume</th>\n",
       "      <th>dividend amount</th>\n",
       "      <th>split coefficient</th>\n",
       "    </tr>\n",
       "  </thead>\n",
       "  <tbody>\n",
       "    <tr>\n",
       "      <td>count</td>\n",
       "      <td>5033.000000</td>\n",
       "      <td>5033.000000</td>\n",
       "      <td>5033.000000</td>\n",
       "      <td>5033.000000</td>\n",
       "      <td>5033.000000</td>\n",
       "      <td>5.033000e+03</td>\n",
       "      <td>5033.000000</td>\n",
       "      <td>5033.000000</td>\n",
       "    </tr>\n",
       "    <tr>\n",
       "      <td>mean</td>\n",
       "      <td>54.419729</td>\n",
       "      <td>54.990526</td>\n",
       "      <td>53.776485</td>\n",
       "      <td>54.391261</td>\n",
       "      <td>44.268857</td>\n",
       "      <td>2.113895e+07</td>\n",
       "      <td>0.006306</td>\n",
       "      <td>1.000099</td>\n",
       "    </tr>\n",
       "    <tr>\n",
       "      <td>std</td>\n",
       "      <td>25.729554</td>\n",
       "      <td>25.864149</td>\n",
       "      <td>25.643741</td>\n",
       "      <td>25.752448</td>\n",
       "      <td>28.149994</td>\n",
       "      <td>2.003772e+07</td>\n",
       "      <td>0.055453</td>\n",
       "      <td>0.007048</td>\n",
       "    </tr>\n",
       "    <tr>\n",
       "      <td>min</td>\n",
       "      <td>15.350000</td>\n",
       "      <td>15.450000</td>\n",
       "      <td>14.960000</td>\n",
       "      <td>15.450000</td>\n",
       "      <td>9.557000</td>\n",
       "      <td>1.347300e+06</td>\n",
       "      <td>0.000000</td>\n",
       "      <td>1.000000</td>\n",
       "    </tr>\n",
       "    <tr>\n",
       "      <td>25%</td>\n",
       "      <td>37.610000</td>\n",
       "      <td>38.030000</td>\n",
       "      <td>37.130000</td>\n",
       "      <td>37.600000</td>\n",
       "      <td>25.908500</td>\n",
       "      <td>9.655500e+06</td>\n",
       "      <td>0.000000</td>\n",
       "      <td>1.000000</td>\n",
       "    </tr>\n",
       "    <tr>\n",
       "      <td>50%</td>\n",
       "      <td>44.980000</td>\n",
       "      <td>45.480000</td>\n",
       "      <td>44.250000</td>\n",
       "      <td>44.940000</td>\n",
       "      <td>32.751300</td>\n",
       "      <td>1.403318e+07</td>\n",
       "      <td>0.000000</td>\n",
       "      <td>1.000000</td>\n",
       "    </tr>\n",
       "    <tr>\n",
       "      <td>75%</td>\n",
       "      <td>61.110000</td>\n",
       "      <td>61.630000</td>\n",
       "      <td>60.630000</td>\n",
       "      <td>61.140000</td>\n",
       "      <td>52.608000</td>\n",
       "      <td>2.536740e+07</td>\n",
       "      <td>0.000000</td>\n",
       "      <td>1.000000</td>\n",
       "    </tr>\n",
       "    <tr>\n",
       "      <td>max</td>\n",
       "      <td>139.900000</td>\n",
       "      <td>141.100000</td>\n",
       "      <td>139.265000</td>\n",
       "      <td>141.090000</td>\n",
       "      <td>140.178000</td>\n",
       "      <td>2.172942e+08</td>\n",
       "      <td>1.000000</td>\n",
       "      <td>1.500000</td>\n",
       "    </tr>\n",
       "  </tbody>\n",
       "</table>\n",
       "</div>"
      ],
      "text/plain": [
       "              open         high          low        close  adjusted close  \\\n",
       "count  5033.000000  5033.000000  5033.000000  5033.000000     5033.000000   \n",
       "mean     54.419729    54.990526    53.776485    54.391261       44.268857   \n",
       "std      25.729554    25.864149    25.643741    25.752448       28.149994   \n",
       "min      15.350000    15.450000    14.960000    15.450000        9.557000   \n",
       "25%      37.610000    38.030000    37.130000    37.600000       25.908500   \n",
       "50%      44.980000    45.480000    44.250000    44.940000       32.751300   \n",
       "75%      61.110000    61.630000    60.630000    61.140000       52.608000   \n",
       "max     139.900000   141.100000   139.265000   141.090000      140.178000   \n",
       "\n",
       "             volume  dividend amount  split coefficient  \n",
       "count  5.033000e+03      5033.000000        5033.000000  \n",
       "mean   2.113895e+07         0.006306           1.000099  \n",
       "std    2.003772e+07         0.055453           0.007048  \n",
       "min    1.347300e+06         0.000000           1.000000  \n",
       "25%    9.655500e+06         0.000000           1.000000  \n",
       "50%    1.403318e+07         0.000000           1.000000  \n",
       "75%    2.536740e+07         0.000000           1.000000  \n",
       "max    2.172942e+08         1.000000           1.500000  "
      ]
     },
     "execution_count": 13,
     "metadata": {},
     "output_type": "execute_result"
    }
   ],
   "source": [
    "df.describe()\n"
   ]
  },
  {
   "cell_type": "markdown",
   "metadata": {},
   "source": [
    "Next the data is graphed over time for the daily open, high, low, and close features."
   ]
  },
  {
   "cell_type": "code",
   "execution_count": 14,
   "metadata": {},
   "outputs": [
    {
     "data": {
      "image/png": "[encoded data removed]",
      "text/plain": [
       "<Figure size 432x288 with 1 Axes>"
      ]
     },
     "metadata": {
      "needs_background": "light"
     },
     "output_type": "display_data"
    }
   ],
   "source": [
    "# daily opening prices \n",
    "\n",
    "fig, ax = plt.subplots()\n",
    "\n",
    "ax.scatter(pd.to_datetime(df.index).year, df.open.values)\n",
    "start, end = ax.get_xlim()\n",
    "ax.xaxis.set_ticks(np.arange(start+1, end, 5))\n",
    "plt.show()"
   ]
  },
  {
   "cell_type": "code",
   "execution_count": 15,
   "metadata": {},
   "outputs": [
    {
     "data": {
      "image/png": "[encoded data removed]",
      "text/plain": [
       "<Figure size 432x288 with 1 Axes>"
      ]
     },
     "metadata": {
      "needs_background": "light"
     },
     "output_type": "display_data"
    }
   ],
   "source": [
    "# daily high prices \n",
    "\n",
    "fig, ax = plt.subplots()\n",
    "\n",
    "ax.scatter(pd.to_datetime(df.index).year, df.high.values)\n",
    "start, end = ax.get_xlim()\n",
    "ax.xaxis.set_ticks(np.arange(start+1, end, 5))\n",
    "plt.show()"
   ]
  },
  {
   "cell_type": "code",
   "execution_count": 16,
   "metadata": {},
   "outputs": [
    {
     "data": {
      "image/png": "[encoded data removed]",
      "text/plain": [
       "<Figure size 432x288 with 1 Axes>"
      ]
     },
     "metadata": {
      "needs_background": "light"
     },
     "output_type": "display_data"
    }
   ],
   "source": [
    "# daily low prices \n",
    "\n",
    "fig, ax = plt.subplots()\n",
    "\n",
    "ax.scatter(pd.to_datetime(df.index).year, df.low.values)\n",
    "start, end = ax.get_xlim()\n",
    "ax.xaxis.set_ticks(np.arange(start+1, end, 5))\n",
    "plt.show()"
   ]
  },
  {
   "cell_type": "code",
   "execution_count": 17,
   "metadata": {},
   "outputs": [
    {
     "data": {
      "image/png": "[encoded data removed]",
      "text/plain": [
       "<Figure size 432x288 with 1 Axes>"
      ]
     },
     "metadata": {
      "needs_background": "light"
     },
     "output_type": "display_data"
    }
   ],
   "source": [
    "# daily closing prices \n",
    "\n",
    "fig, ax = plt.subplots()\n",
    "\n",
    "ax.scatter(pd.to_datetime(df.index).year, df.low.values)\n",
    "start, end = ax.get_xlim()\n",
    "ax.xaxis.set_ticks(np.arange(start+1, end, 5))\n",
    "plt.show()"
   ]
  },
  {
   "cell_type": "markdown",
   "metadata": {},
   "source": [
    "As we can see, all the price factors have similar shapes over time."
   ]
  },
  {
   "cell_type": "markdown",
   "metadata": {},
   "source": [
    "Volume has a somewhat different shape, indicating a massive amount of trades around the time\n",
    "of the financial crisis:"
   ]
  },
  {
   "cell_type": "code",
   "execution_count": 18,
   "metadata": {},
   "outputs": [
    {
     "data": {
      "image/png": "[encoded data removed]",
      "text/plain": [
       "<Figure size 432x288 with 1 Axes>"
      ]
     },
     "metadata": {
      "needs_background": "light"
     },
     "output_type": "display_data"
    }
   ],
   "source": [
    "# daily volume prices \n",
    "\n",
    "fig, ax = plt.subplots()\n",
    "\n",
    "ax.scatter(pd.to_datetime(df.index).year, df.volume.values)\n",
    "start, end = ax.get_xlim()\n",
    "ax.xaxis.set_ticks(np.arange(start+1, end, 5))\n",
    "plt.show()"
   ]
  },
  {
   "cell_type": "markdown",
   "metadata": {},
   "source": [
    "Thee dividend amount is graphed by a histogram to give an idea of what the distribution looks like."
   ]
  },
  {
   "cell_type": "code",
   "execution_count": 19,
   "metadata": {},
   "outputs": [
    {
     "data": {
      "text/plain": [
       "array([0.  , 0.9 , 0.8 , 0.56, 0.5 , 0.48, 0.44, 0.4 , 0.38, 0.3 , 0.25,\n",
       "       0.05, 0.34, 1.  , 0.32])"
      ]
     },
     "execution_count": 19,
     "metadata": {},
     "output_type": "execute_result"
    }
   ],
   "source": [
    "df['dividend amount'].unique()"
   ]
  },
  {
   "cell_type": "code",
   "execution_count": 20,
   "metadata": {},
   "outputs": [
    {
     "data": {
      "image/png": "[encoded data removed]",
      "text/plain": [
       "<Figure size 432x288 with 1 Axes>"
      ]
     },
     "metadata": {
      "needs_background": "light"
     },
     "output_type": "display_data"
    }
   ],
   "source": [
    "plt.hist(df['dividend amount'])\n",
    "plt.show()"
   ]
  },
  {
   "cell_type": "markdown",
   "metadata": {},
   "source": [
    "The vast majority of dividends pay less than 0.2, which is to be expected.\n",
    "This will not be used in the project, but it was interesting to see."
   ]
  },
  {
   "cell_type": "markdown",
   "metadata": {},
   "source": [
    "Finally, the data is converted to a csv file and exported to the working directory:"
   ]
  },
  {
   "cell_type": "code",
   "execution_count": 21,
   "metadata": {},
   "outputs": [],
   "source": [
    "df.to_csv('cleaned_data.csv')"
   ]
  }
 ],
 "metadata": {
  "kernelspec": {
   "display_name": "Python 3",
   "language": "python",
   "name": "python3"
  },
  "language_info": {
   "codemirror_mode": {
    "name": "ipython",
    "version": 3
   },
   "file_extension": ".py",
   "mimetype": "text/x-python",
   "name": "python",
   "nbconvert_exporter": "python",
   "pygments_lexer": "ipython3",
   "version": "3.7.4"
  }
 },
 "nbformat": 4,
 "nbformat_minor": 2
}
