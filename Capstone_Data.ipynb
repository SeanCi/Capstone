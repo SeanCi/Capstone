{
 "cells": [
  {
   "cell_type": "code",
   "execution_count": 2,
   "metadata": {},
   "outputs": [],
   "source": [
    "import pandas as pd"
   ]
  },
  {
   "cell_type": "code",
   "execution_count": 3,
   "metadata": {},
   "outputs": [],
   "source": [
    "key = 'I2ZWBIOL69PFCZV1'"
   ]
  },
  {
   "cell_type": "code",
   "execution_count": 4,
   "metadata": {},
   "outputs": [],
   "source": [
    "import requests"
   ]
  },
  {
   "cell_type": "code",
   "execution_count": 5,
   "metadata": {},
   "outputs": [],
   "source": [
    "response = requests.get('https://www.alphavantage.co/query?function=TIME_SERIES_DAILY&symbol=JPM&outputsize=full&apikey=key')\n"
   ]
  },
  {
   "cell_type": "code",
   "execution_count": 6,
   "metadata": {},
   "outputs": [],
   "source": [
    "from pandas.io.json import json_normalize\n",
    "\n",
    "daily_df = json_normalize(response.json())"
   ]
  },
  {
   "cell_type": "code",
   "execution_count": 7,
   "metadata": {},
   "outputs": [
    {
     "data": {
      "text/html": [
       "<div>\n",
       "<style scoped>\n",
       "    .dataframe tbody tr th:only-of-type {\n",
       "        vertical-align: middle;\n",
       "    }\n",
       "\n",
       "    .dataframe tbody tr th {\n",
       "        vertical-align: top;\n",
       "    }\n",
       "\n",
       "    .dataframe thead th {\n",
       "        text-align: right;\n",
       "    }\n",
       "</style>\n",
       "<table border=\"1\" class=\"dataframe\">\n",
       "  <thead>\n",
       "    <tr style=\"text-align: right;\">\n",
       "      <th></th>\n",
       "      <th>Meta Data.1. Information</th>\n",
       "      <th>Meta Data.2. Symbol</th>\n",
       "      <th>Meta Data.3. Last Refreshed</th>\n",
       "      <th>Meta Data.4. Output Size</th>\n",
       "      <th>Meta Data.5. Time Zone</th>\n",
       "      <th>Time Series (Daily).2019-11-13.1. open</th>\n",
       "      <th>Time Series (Daily).2019-11-13.2. high</th>\n",
       "      <th>Time Series (Daily).2019-11-13.3. low</th>\n",
       "      <th>Time Series (Daily).2019-11-13.4. close</th>\n",
       "      <th>Time Series (Daily).2019-11-13.5. volume</th>\n",
       "      <th>...</th>\n",
       "      <th>Time Series (Daily).1999-11-16.1. open</th>\n",
       "      <th>Time Series (Daily).1999-11-16.2. high</th>\n",
       "      <th>Time Series (Daily).1999-11-16.3. low</th>\n",
       "      <th>Time Series (Daily).1999-11-16.4. close</th>\n",
       "      <th>Time Series (Daily).1999-11-16.5. volume</th>\n",
       "      <th>Time Series (Daily).1999-11-15.1. open</th>\n",
       "      <th>Time Series (Daily).1999-11-15.2. high</th>\n",
       "      <th>Time Series (Daily).1999-11-15.3. low</th>\n",
       "      <th>Time Series (Daily).1999-11-15.4. close</th>\n",
       "      <th>Time Series (Daily).1999-11-15.5. volume</th>\n",
       "    </tr>\n",
       "  </thead>\n",
       "  <tbody>\n",
       "    <tr>\n",
       "      <th>0</th>\n",
       "      <td>Daily Prices (open, high, low, close) and Volumes</td>\n",
       "      <td>JPM</td>\n",
       "      <td>2019-11-13</td>\n",
       "      <td>Full size</td>\n",
       "      <td>US/Eastern</td>\n",
       "      <td>128.1300</td>\n",
       "      <td>128.8150</td>\n",
       "      <td>127.4200</td>\n",
       "      <td>128.4800</td>\n",
       "      <td>8096654</td>\n",
       "      <td>...</td>\n",
       "      <td>83.3750</td>\n",
       "      <td>86.4380</td>\n",
       "      <td>82.8750</td>\n",
       "      <td>86.0000</td>\n",
       "      <td>6735300</td>\n",
       "      <td>84.0630</td>\n",
       "      <td>84.8130</td>\n",
       "      <td>82.5000</td>\n",
       "      <td>82.5630</td>\n",
       "      <td>5613000</td>\n",
       "    </tr>\n",
       "  </tbody>\n",
       "</table>\n",
       "<p>1 rows × 25165 columns</p>\n",
       "</div>"
      ],
      "text/plain": [
       "                            Meta Data.1. Information Meta Data.2. Symbol  \\\n",
       "0  Daily Prices (open, high, low, close) and Volumes                 JPM   \n",
       "\n",
       "  Meta Data.3. Last Refreshed Meta Data.4. Output Size Meta Data.5. Time Zone  \\\n",
       "0                  2019-11-13                Full size             US/Eastern   \n",
       "\n",
       "  Time Series (Daily).2019-11-13.1. open  \\\n",
       "0                               128.1300   \n",
       "\n",
       "  Time Series (Daily).2019-11-13.2. high  \\\n",
       "0                               128.8150   \n",
       "\n",
       "  Time Series (Daily).2019-11-13.3. low  \\\n",
       "0                              127.4200   \n",
       "\n",
       "  Time Series (Daily).2019-11-13.4. close  \\\n",
       "0                                128.4800   \n",
       "\n",
       "  Time Series (Daily).2019-11-13.5. volume  ...  \\\n",
       "0                                  8096654  ...   \n",
       "\n",
       "  Time Series (Daily).1999-11-16.1. open  \\\n",
       "0                                83.3750   \n",
       "\n",
       "  Time Series (Daily).1999-11-16.2. high  \\\n",
       "0                                86.4380   \n",
       "\n",
       "  Time Series (Daily).1999-11-16.3. low  \\\n",
       "0                               82.8750   \n",
       "\n",
       "  Time Series (Daily).1999-11-16.4. close  \\\n",
       "0                                 86.0000   \n",
       "\n",
       "  Time Series (Daily).1999-11-16.5. volume  \\\n",
       "0                                  6735300   \n",
       "\n",
       "  Time Series (Daily).1999-11-15.1. open  \\\n",
       "0                                84.0630   \n",
       "\n",
       "  Time Series (Daily).1999-11-15.2. high  \\\n",
       "0                                84.8130   \n",
       "\n",
       "  Time Series (Daily).1999-11-15.3. low  \\\n",
       "0                               82.5000   \n",
       "\n",
       "  Time Series (Daily).1999-11-15.4. close  \\\n",
       "0                                 82.5630   \n",
       "\n",
       "  Time Series (Daily).1999-11-15.5. volume  \n",
       "0                                  5613000  \n",
       "\n",
       "[1 rows x 25165 columns]"
      ]
     },
     "execution_count": 7,
     "metadata": {},
     "output_type": "execute_result"
    }
   ],
   "source": [
    "daily_df"
   ]
  },
  {
   "cell_type": "code",
   "execution_count": 13,
   "metadata": {},
   "outputs": [],
   "source": [
    "daily_df.to_csv('data.csv')"
   ]
  }
 ],
 "metadata": {
  "kernelspec": {
   "display_name": "Python 3",
   "language": "python",
   "name": "python3"
  },
  "language_info": {
   "codemirror_mode": {
    "name": "ipython",
    "version": 3
   },
   "file_extension": ".py",
   "mimetype": "text/x-python",
   "name": "python",
   "nbconvert_exporter": "python",
   "pygments_lexer": "ipython3",
   "version": "3.7.3"
  }
 },
 "nbformat": 4,
 "nbformat_minor": 2
}
